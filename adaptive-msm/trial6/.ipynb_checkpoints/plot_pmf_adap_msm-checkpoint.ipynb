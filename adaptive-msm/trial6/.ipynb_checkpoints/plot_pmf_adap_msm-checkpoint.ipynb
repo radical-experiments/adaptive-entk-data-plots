{
 "cells": [
  {
   "cell_type": "code",
   "execution_count": 1,
   "metadata": {
    "collapsed": false
   },
   "outputs": [
    {
     "name": "stdout",
     "output_type": "stream",
     "text": [
      "Using matplotlib backend: TkAgg\n"
     ]
    }
   ],
   "source": [
    "import pandas as pd\n",
    "import matplotlib.pyplot as plt\n",
    "from pprint import pprint\n",
    "from math import pi, sqrt, log, degrees\n",
    "import numpy as np\n",
    "\n",
    "from matplotlib import cm\n",
    "\n",
    "pd.set_option('display.precision',14)\n",
    "pd.set_option('display.max_rows', 500)\n",
    "pd.set_option('display.max_columns', 15)\n",
    "pd.set_option('display.width', 1000)\n",
    "pd.set_option('display.width', 1000)\n",
    "\n",
    "%matplotlib\n",
    "FONTSIZE=14"
   ]
  },
  {
   "cell_type": "code",
   "execution_count": 2,
   "metadata": {
    "collapsed": true
   },
   "outputs": [],
   "source": [
    "def phi_psi_to_file(path):\n",
    "\n",
    "    import glob\n",
    "    import os\n",
    "    import matplotlib.pyplot as plt\n",
    "    from math import pi, radians\n",
    "\n",
    "    #macro_states = glob.glob('%s/macro*-0.gro'%path)\n",
    "    #print 'Found {0} .gro macrostates'.format(len(macro_states))\n",
    "    \n",
    "    macro_states = glob.glob('%s/new_run*.gro'%path)\n",
    "    print 'Found {0} .gro microstates'.format(len(macro_states))\n",
    "    \n",
    "    pdb = glob.glob('%s/maxstate*.pdb'%path)\n",
    "    \n",
    "    f = open('phi_psi.txt','w')\n",
    "    f.close()\n",
    "    \n",
    "    for conf in macro_states:\n",
    "\n",
    "        os.system('gmx chi -f {0} -s {1} -rama'.format(conf, pdb[0]))\n",
    "        f=open('ramaPhiPsiALA2.xvg','r')\n",
    "        lines = f.readlines()\n",
    "        f.close()\n",
    "        p1 = float(lines[-1].strip().split(' ')[0].strip())\n",
    "        p2 = float(lines[-1].strip().split(' ')[-1].strip())\n",
    "        phi = p1\n",
    "        psi = p2\n",
    "\n",
    "        os.remove('ramaPhiPsiALA2.xvg')\n",
    "        os.remove('chi.log')\n",
    "        os.remove('order.xvg')\n",
    "        f = open('phi_psi.txt','a')\n",
    "        line = str(phi) + ',' + str(psi) + '\\n'\n",
    "        f.write(line)"
   ]
  },
  {
   "cell_type": "code",
   "execution_count": 12,
   "metadata": {
    "collapsed": true
   },
   "outputs": [],
   "source": [
    "def pmf_plot(path):\n",
    "    \n",
    "    f = open('phi_psi.txt','r')\n",
    "    lines = f.readlines()\n",
    "    phi=[]\n",
    "    psi=[]\n",
    "    \n",
    "    for val in lines:\n",
    "        phi.append(float(val.strip().split(',')[0].strip()))\n",
    "        psi.append(float(val.strip().split(',')[1].strip()))\n",
    "    \n",
    "    f.close()\n",
    "    \n",
    "    ev = np.load('%s/eigen_vector.npy'%path)\n",
    "    pmf = []\n",
    "    \n",
    "    for item in ev[1]:\n",
    "        pmf.append(-1*log(item[0].real))\n",
    "    \n",
    "    \n",
    "    #print 'phi:',len(set(phi)), phi\n",
    "    #print 'psi:',len(set(psi)), psi\n",
    "    \n",
    "    plot(phi,psi,pmf,path)"
   ]
  },
  {
   "cell_type": "code",
   "execution_count": 13,
   "metadata": {
    "collapsed": false
   },
   "outputs": [],
   "source": [
    "def plot(phi, psi, pmf, path):\n",
    "    plt.figure()\n",
    "    \n",
    "    empty_mat = np.zeros((sqrt(len(set(phi))),sqrt(len(set(psi)))),dtype=float)\n",
    "    extent1 = [min(phi), max(phi), min(psi), max(psi)]\n",
    "    extent2 = [-180, 180,-180, 180]\n",
    "    \n",
    "    phi_linspace = np.linspace(min(phi), max(phi), num=int(sqrt(len(set(phi)))))\n",
    "    psi_linspace = np.linspace(min(psi), max(psi), num=int(sqrt(len(set(psi)))))\n",
    "    \n",
    "    #print empty_mat\n",
    "    \n",
    "    cnt=1\n",
    "    for cnt in range(len(phi)):\n",
    "        x = min(range(len(phi_linspace)), key=lambda i: abs(phi_linspace[i]-phi[cnt]))\n",
    "        y = min(range(len(psi_linspace)), key=lambda i: abs(psi_linspace[i]-psi[cnt]))\n",
    "        val = pmf[cnt]\n",
    "        empty_mat[x,y] += val\n",
    "        cnt+=1\n",
    "            \n",
    "    #print empty_mat\n",
    "    \n",
    "    \n",
    "    ax = plt.imshow(empty_mat, extent=extent1, cmap = cm.get_cmap('jet_r'))\n",
    "    \n",
    "    \n",
    "    cb = plt.colorbar()\n",
    "    cb.set_label('pmf',size=FONTSIZE)\n",
    "    for t in cb.ax.get_yticklabels():\n",
    "         t.set_fontsize(FONTSIZE) \n",
    "    plt.scatter(phi,psi)\n",
    "    \n",
    "    plt.title('Potential of mean force plot - %s'%path, fontsize=FONTSIZE)\n",
    "    plt.xlabel(r'$\\Phi$ Angle [degrees]', fontsize=FONTSIZE)\n",
    "    plt.ylabel(r'$\\Psi$ Angle [degrees]', fontsize=FONTSIZE)\n",
    "    \n",
    "    xticks_1 = np.arange(min(phi),max(phi), float(abs(max(phi)-min(phi))/7))\n",
    "    xticks = np.append(xticks_1,max(phi))\n",
    "    yticks_1 = np.arange(min(psi),max(psi), float(abs(max(psi)-min(psi))/7))\n",
    "    yticks = np.append(yticks_1,max(psi))\n",
    "    plt.xticks(xticks,rotation=90, fontsize=FONTSIZE)\n",
    "    plt.yticks(yticks, fontsize=FONTSIZE)\n",
    "    \n",
    "    plt.grid()\n",
    "    plt.show()"
   ]
  },
  {
   "cell_type": "code",
   "execution_count": 14,
   "metadata": {
    "collapsed": false
   },
   "outputs": [],
   "source": [
    "def plot_2(phi, psi, pmf, path):\n",
    "    plt.figure()\n",
    "    \n",
    "    empty_mat = np.zeros((24,24),dtype=float)\n",
    "    #extent1 = [min(phi), max(phi), min(psi), max(psi)]\n",
    "    extent2 = [-180, 180,-180, 180]\n",
    "    \n",
    "    phi_linspace = np.linspace(-180,180, num=24)\n",
    "    psi_linspace = np.linspace(180,-180, num=24)\n",
    "    \n",
    "    #print phi_linspace\n",
    "    #print psi_linspace\n",
    "    \n",
    "    cnt=0\n",
    "    for cnt in range(len(phi)):\n",
    "        #print '------------------------------'\n",
    "        #print phi[cnt]\n",
    "        #print psi[cnt]\n",
    "        \n",
    "        for i in range(0,len(phi_linspace)-1):\n",
    "            if float(phi_linspace[i]) < float(phi[cnt]) < float(phi_linspace[i+1]):\n",
    "                y=i\n",
    "                print i\n",
    "        \n",
    "        for j in range(0,len(psi_linspace)-1):\n",
    "            if float(psi_linspace[j]) > float(psi[cnt]) > float(psi_linspace[j+1]):\n",
    "                x=j\n",
    "                print j\n",
    "        \n",
    "        #y = min(range(len(phi_linspace)), key=lambda i: abs(phi_linspace[i]-phi[cnt]))\n",
    "        #x = min(range(len(psi_linspace)), key=lambda i: abs(psi_linspace[i]-psi[cnt]))\n",
    "                \n",
    "        #print 'phi: ',y,'psi: ',x\n",
    "        val = pmf[cnt]\n",
    "        #print val\n",
    "        #print cnt\n",
    "        #print '------------------------------'\n",
    "        empty_mat[x,y] += val\n",
    "        cnt+=1\n",
    "            \n",
    "    #print empty_mat\n",
    "    \n",
    "    \n",
    "    ax = plt.imshow(empty_mat, extent=extent2, cmap = cm.get_cmap('jet_r'))\n",
    "    \n",
    "    \n",
    "    cb = plt.colorbar()\n",
    "    cb.set_label('pmf',size=FONTSIZE)\n",
    "    for t in cb.ax.get_yticklabels():\n",
    "         t.set_fontsize(FONTSIZE) \n",
    "    plt.scatter(phi,psi)\n",
    "    \n",
    "    plt.title('Potential of mean force plot - %s'%path, fontsize=FONTSIZE)\n",
    "    plt.xlabel(r'$\\Phi$ Angle [degrees]', fontsize=FONTSIZE)\n",
    "    plt.ylabel(r'$\\Psi$ Angle [degrees]', fontsize=FONTSIZE)\n",
    "    \n",
    "    xticks_1 = np.arange(-180,180, 15)\n",
    "    xticks = np.append(xticks_1,180)\n",
    "    yticks_1 = np.arange(-180, 180,15)\n",
    "    yticks = np.append(yticks_1,180)\n",
    "    plt.xticks(xticks,rotation=90, fontsize=FONTSIZE)\n",
    "    plt.yticks(yticks, fontsize=FONTSIZE)\n",
    "    \n",
    "    plt.grid()\n",
    "    plt.show()"
   ]
  },
  {
   "cell_type": "code",
   "execution_count": 15,
   "metadata": {
    "collapsed": false
   },
   "outputs": [
    {
     "name": "stdout",
     "output_type": "stream",
     "text": [
      "Found 100 .gro microstates\n"
     ]
    },
    {
     "name": "stderr",
     "output_type": "stream",
     "text": [
      "/usr/local/lib/python2.7/dist-packages/ipykernel/__main__.py:4: VisibleDeprecationWarning: using a non-integer number instead of an integer will result in an error in the future\n"
     ]
    },
    {
     "ename": "IndexError",
     "evalue": "list index out of range",
     "output_type": "error",
     "traceback": [
      "\u001b[0;31m---------------------------------------------------------------------------\u001b[0m",
      "\u001b[0;31mIndexError\u001b[0m                                Traceback (most recent call last)",
      "\u001b[0;32m<ipython-input-15-8cbc27c84c8c>\u001b[0m in \u001b[0;36m<module>\u001b[0;34m()\u001b[0m\n\u001b[1;32m      5\u001b[0m \u001b[0;34m\u001b[0m\u001b[0m\n\u001b[1;32m      6\u001b[0m     \u001b[0mphi_psi_to_file\u001b[0m\u001b[0;34m(\u001b[0m\u001b[0mi\u001b[0m\u001b[0;34m)\u001b[0m\u001b[0;34m\u001b[0m\u001b[0m\n\u001b[0;32m----> 7\u001b[0;31m     \u001b[0mpmf_plot\u001b[0m\u001b[0;34m(\u001b[0m\u001b[0mi\u001b[0m\u001b[0;34m)\u001b[0m\u001b[0;34m\u001b[0m\u001b[0m\n\u001b[0m",
      "\u001b[0;32m<ipython-input-12-439d79cad508>\u001b[0m in \u001b[0;36mpmf_plot\u001b[0;34m(path)\u001b[0m\n\u001b[1;32m     22\u001b[0m     \u001b[0;31m#print 'psi:',len(set(psi)), psi\u001b[0m\u001b[0;34m\u001b[0m\u001b[0;34m\u001b[0m\u001b[0m\n\u001b[1;32m     23\u001b[0m \u001b[0;34m\u001b[0m\u001b[0m\n\u001b[0;32m---> 24\u001b[0;31m     \u001b[0mplot\u001b[0m\u001b[0;34m(\u001b[0m\u001b[0mphi\u001b[0m\u001b[0;34m,\u001b[0m\u001b[0mpsi\u001b[0m\u001b[0;34m,\u001b[0m\u001b[0mpmf\u001b[0m\u001b[0;34m,\u001b[0m\u001b[0mpath\u001b[0m\u001b[0;34m)\u001b[0m\u001b[0;34m\u001b[0m\u001b[0m\n\u001b[0m",
      "\u001b[0;32m<ipython-input-13-e5521e1ac9af>\u001b[0m in \u001b[0;36mplot\u001b[0;34m(phi, psi, pmf, path)\u001b[0m\n\u001b[1;32m     15\u001b[0m         \u001b[0mx\u001b[0m \u001b[0;34m=\u001b[0m \u001b[0mmin\u001b[0m\u001b[0;34m(\u001b[0m\u001b[0mrange\u001b[0m\u001b[0;34m(\u001b[0m\u001b[0mlen\u001b[0m\u001b[0;34m(\u001b[0m\u001b[0mphi_linspace\u001b[0m\u001b[0;34m)\u001b[0m\u001b[0;34m)\u001b[0m\u001b[0;34m,\u001b[0m \u001b[0mkey\u001b[0m\u001b[0;34m=\u001b[0m\u001b[0;32mlambda\u001b[0m \u001b[0mi\u001b[0m\u001b[0;34m:\u001b[0m \u001b[0mabs\u001b[0m\u001b[0;34m(\u001b[0m\u001b[0mphi_linspace\u001b[0m\u001b[0;34m[\u001b[0m\u001b[0mi\u001b[0m\u001b[0;34m]\u001b[0m\u001b[0;34m-\u001b[0m\u001b[0mphi\u001b[0m\u001b[0;34m[\u001b[0m\u001b[0mcnt\u001b[0m\u001b[0;34m]\u001b[0m\u001b[0;34m)\u001b[0m\u001b[0;34m)\u001b[0m\u001b[0;34m\u001b[0m\u001b[0m\n\u001b[1;32m     16\u001b[0m         \u001b[0my\u001b[0m \u001b[0;34m=\u001b[0m \u001b[0mmin\u001b[0m\u001b[0;34m(\u001b[0m\u001b[0mrange\u001b[0m\u001b[0;34m(\u001b[0m\u001b[0mlen\u001b[0m\u001b[0;34m(\u001b[0m\u001b[0mpsi_linspace\u001b[0m\u001b[0;34m)\u001b[0m\u001b[0;34m)\u001b[0m\u001b[0;34m,\u001b[0m \u001b[0mkey\u001b[0m\u001b[0;34m=\u001b[0m\u001b[0;32mlambda\u001b[0m \u001b[0mi\u001b[0m\u001b[0;34m:\u001b[0m \u001b[0mabs\u001b[0m\u001b[0;34m(\u001b[0m\u001b[0mpsi_linspace\u001b[0m\u001b[0;34m[\u001b[0m\u001b[0mi\u001b[0m\u001b[0;34m]\u001b[0m\u001b[0;34m-\u001b[0m\u001b[0mpsi\u001b[0m\u001b[0;34m[\u001b[0m\u001b[0mcnt\u001b[0m\u001b[0;34m]\u001b[0m\u001b[0;34m)\u001b[0m\u001b[0;34m)\u001b[0m\u001b[0;34m\u001b[0m\u001b[0m\n\u001b[0;32m---> 17\u001b[0;31m         \u001b[0mval\u001b[0m \u001b[0;34m=\u001b[0m \u001b[0mpmf\u001b[0m\u001b[0;34m[\u001b[0m\u001b[0mcnt\u001b[0m\u001b[0;34m]\u001b[0m\u001b[0;34m\u001b[0m\u001b[0m\n\u001b[0m\u001b[1;32m     18\u001b[0m         \u001b[0mempty_mat\u001b[0m\u001b[0;34m[\u001b[0m\u001b[0mx\u001b[0m\u001b[0;34m,\u001b[0m\u001b[0my\u001b[0m\u001b[0;34m]\u001b[0m \u001b[0;34m+=\u001b[0m \u001b[0mval\u001b[0m\u001b[0;34m\u001b[0m\u001b[0m\n\u001b[1;32m     19\u001b[0m         \u001b[0mcnt\u001b[0m\u001b[0;34m+=\u001b[0m\u001b[0;36m1\u001b[0m\u001b[0;34m\u001b[0m\u001b[0m\n",
      "\u001b[0;31mIndexError\u001b[0m: list index out of range"
     ]
    }
   ],
   "source": [
    "import glob\n",
    "iters = ['iter10']\n",
    "\n",
    "for i in iters:\n",
    "\n",
    "    phi_psi_to_file(i)\n",
    "    pmf_plot(i)"
   ]
  },
  {
   "cell_type": "code",
   "execution_count": null,
   "metadata": {
    "collapsed": true
   },
   "outputs": [],
   "source": []
  },
  {
   "cell_type": "code",
   "execution_count": null,
   "metadata": {
    "collapsed": true
   },
   "outputs": [],
   "source": []
  }
 ],
 "metadata": {
  "kernelspec": {
   "display_name": "Python 2",
   "language": "python",
   "name": "python2"
  },
  "language_info": {
   "codemirror_mode": {
    "name": "ipython",
    "version": 2
   },
   "file_extension": ".py",
   "mimetype": "text/x-python",
   "name": "python",
   "nbconvert_exporter": "python",
   "pygments_lexer": "ipython2",
   "version": "2.7.12"
  }
 },
 "nbformat": 4,
 "nbformat_minor": 1
}
