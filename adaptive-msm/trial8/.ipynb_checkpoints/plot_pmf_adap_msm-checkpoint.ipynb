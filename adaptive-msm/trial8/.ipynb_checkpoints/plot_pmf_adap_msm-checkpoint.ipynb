{
 "cells": [
  {
   "cell_type": "code",
   "execution_count": 1,
   "metadata": {
    "collapsed": false,
    "deletable": true,
    "editable": true
   },
   "outputs": [
    {
     "name": "stdout",
     "output_type": "stream",
     "text": [
      "Using matplotlib backend: TkAgg\n"
     ]
    }
   ],
   "source": [
    "import pandas as pd\n",
    "import matplotlib.pyplot as plt\n",
    "from pprint import pprint\n",
    "from math import pi, sqrt, log, degrees\n",
    "import numpy as np\n",
    "import scipy.sparse.linalg as linalg\n",
    "\n",
    "from matplotlib import cm\n",
    "\n",
    "pd.set_option('display.precision',14)\n",
    "pd.set_option('display.max_rows', 500)\n",
    "pd.set_option('display.max_columns', 15)\n",
    "pd.set_option('display.width', 1000)\n",
    "pd.set_option('display.width', 1000)\n",
    "\n",
    "%matplotlib\n",
    "FONTSIZE=22"
   ]
  },
  {
   "cell_type": "code",
   "execution_count": 2,
   "metadata": {
    "collapsed": true,
    "deletable": true,
    "editable": true
   },
   "outputs": [],
   "source": [
    "def phi_psi_to_file(path):\n",
    "\n",
    "    import glob\n",
    "    import os\n",
    "    import matplotlib.pyplot as plt\n",
    "    from math import pi, radians\n",
    "\n",
    "    macro_states = glob.glob('%s/new_run*.gro'%path)\n",
    "    print 'Found {0} .gro microstates'.format(len(macro_states))\n",
    "    \n",
    "    #macro_states = glob.glob('%s/new_run*.gro'%path)\n",
    "    #print 'Found {0} .gro microstates'.format(len(macro_states))\n",
    "    \n",
    "    pdb = glob.glob('%s/maxstate*.pdb'%path)\n",
    "    \n",
    "    f = open('phi_psi.txt','w')\n",
    "    f.close()\n",
    "    \n",
    "    for conf in macro_states:\n",
    "\n",
    "        os.system('gmx chi -f {0} -s {1} -rama'.format(conf, pdb[0]))\n",
    "        f=open('ramaPhiPsiALA2.xvg','r')\n",
    "        lines = f.readlines()\n",
    "        f.close()\n",
    "        p1 = float(lines[-1].strip().split(' ')[0].strip())\n",
    "        p2 = float(lines[-1].strip().split(' ')[-1].strip())\n",
    "        phi = p1\n",
    "        psi = p2\n",
    "\n",
    "        os.remove('ramaPhiPsiALA2.xvg')\n",
    "        os.remove('chi.log')\n",
    "        os.remove('order.xvg')\n",
    "        f = open('phi_psi.txt','a')\n",
    "        line = str(phi) + ',' + str(psi) + '\\n'\n",
    "        f.write(line)"
   ]
  },
  {
   "cell_type": "code",
   "execution_count": 3,
   "metadata": {
    "collapsed": false,
    "deletable": true,
    "editable": true
   },
   "outputs": [],
   "source": [
    "def plot(phi, psi, pmf, path):\n",
    "    plt.figure()\n",
    "    \n",
    "    empty_mat = np.zeros((36,36),dtype=float)\n",
    "    #extent1 = [min(phi), max(phi), min(psi), max(psi)]\n",
    "    extent2 = [-180, 180,-180, 180]\n",
    "    \n",
    "    #phi_linspace = np.linspace(-180,180, num=36)\n",
    "    #psi_linspace = np.linspace(180,-180, num=36)\n",
    "    \n",
    "    #print phi_linspace\n",
    "    #print psi_linspace\n",
    "    \n",
    "    phi_linspace = range(-180,190,10)\n",
    "    psi_linspace = range(180,-190,-10)\n",
    "\n",
    "    phi_coords=[]\n",
    "    psi_coords=[]\n",
    "    cnt=0\n",
    "    for cnt in range(len(set(phi))):\n",
    "        #print '------------------------------'\n",
    "        #print phi[cnt]\n",
    "        #print psi[cnt]\n",
    "        \n",
    "        for i in range(0,len(phi_linspace)-1):\n",
    "            if float(phi_linspace[i]) < float(phi[cnt]) < float(phi_linspace[i+1]):\n",
    "                #print float(phi_linspace[i]), float(phi[cnt]), float(phi_linspace[i+1])\n",
    "                #print i\n",
    "                y=i\n",
    "                break\n",
    "        \n",
    "        for j in range(0,len(psi_linspace)-1):\n",
    "            if float(psi_linspace[j]) > float(psi[cnt]) > float(psi_linspace[j+1]):\n",
    "                #print float(psi_linspace[i]), float(psi[cnt]), float(psi_linspace[i+1])\n",
    "                #print j\n",
    "                x=j\n",
    "                break\n",
    "        \n",
    "        #y = min(range(len(phi_linspace)), key=lambda i: abs(phi_linspace[i]-phi[cnt]))\n",
    "        #x = min(range(len(psi_linspace)), key=lambda i: abs(psi_linspace[i]-psi[cnt]))\n",
    "                \n",
    "        #print 'phi: ',y,'psi: ',x\n",
    "        val = pmf[cnt]\n",
    "        #print val\n",
    "        #print cnt\n",
    "        #print '------------------------------'\n",
    "        empty_mat[x,y] += val\n",
    "        cnt+=1\n",
    "        phi_coords.append(x)\n",
    "        psi_coords.append(y)\n",
    "            \n",
    "    \n",
    "    for i in range(len(empty_mat)):\n",
    "        for j in range(len(empty_mat)):\n",
    "            if float(empty_mat[i,j]) == 0.0:\n",
    "                empty_mat[i,j] = 10.0\n",
    "    \n",
    "    ax = plt.imshow(empty_mat, extent=extent2, cmap = cm.get_cmap('jet_r'), vmin=0, vmax=10, alpha=5)\n",
    "    colors = []\n",
    "    #colorm = cm.get_cmap('jet_r')\n",
    "    #for i in range(len(phi)):\n",
    "        #print phi[i], psi[i]\n",
    "        #c = colorm(empty_mat[phi_coords[i]][psi_coords[i]])\n",
    "        #print c\n",
    "        #colors.append(c)\n",
    "   \n",
    "    plt.title('Potential of mean force plot - %s'%path, fontsize=FONTSIZE)\n",
    "    plt.xlabel(r'$\\Phi$ Angle [degrees]', fontsize=FONTSIZE)\n",
    "    plt.ylabel(r'$\\Psi$ Angle [degrees]', fontsize=FONTSIZE)\n",
    "    \n",
    "    xticks_1 = np.arange(-180,180, 10)\n",
    "    xticks = np.append(xticks_1,180)\n",
    "    yticks_1 = np.arange(-180, 180,10)\n",
    "    yticks = np.append(yticks_1,180)\n",
    "    plt.xticks(xticks,rotation=90, fontsize=FONTSIZE)\n",
    "    plt.yticks(yticks, fontsize=FONTSIZE)\n",
    "    \n",
    "    cb = plt.colorbar(pad=0.04)\n",
    "    cb.set_label('pmf',size=FONTSIZE)\n",
    "    for t in cb.ax.get_yticklabels():\n",
    "         t.set_fontsize(FONTSIZE) \n",
    "    plt.scatter(phi,psi)\n",
    "    \n",
    "    plt.grid()\n",
    "    plt.show()\n",
    "    \n",
    "    fig = plt.gcf()\n",
    "    fig.set_size_inches(16, 16)\n",
    "    fig.savefig('pmf_%s.pdf'%path, dpi=100)"
   ]
  },
  {
   "cell_type": "code",
   "execution_count": 4,
   "metadata": {
    "collapsed": true,
    "deletable": true,
    "editable": true
   },
   "outputs": [],
   "source": [
    "def pmf_plot(path):\n",
    "    \n",
    "    f = open('phi_psi.txt','r')\n",
    "    lines = f.readlines()\n",
    "    phi=[]\n",
    "    psi=[]\n",
    "    \n",
    "    for val in lines:\n",
    "        phi.append(float(val.strip().split(',')[0].strip()))\n",
    "        psi.append(float(val.strip().split(',')[1].strip()))\n",
    "    \n",
    "    f.close()\n",
    "    \n",
    "    ev = get_pdf(path)\n",
    "\n",
    "    #print ev\n",
    "    pmf = []\n",
    "    \n",
    "    for item in ev:\n",
    "        val = np.asscalar(item.real)\n",
    "        #print val\n",
    "        pmf.append(-1*log(val))\n",
    "    \n",
    "    \n",
    "    print 'phi:',len((phi))\n",
    "    print 'psi:',len((psi))\n",
    "    print 'pmf:',len((pmf))\n",
    "\n",
    "    plot(phi,psi,pmf,path)"
   ]
  },
  {
   "cell_type": "code",
   "execution_count": 5,
   "metadata": {
    "collapsed": true,
    "deletable": true,
    "editable": true
   },
   "outputs": [],
   "source": [
    "def get_pdf(path):\n",
    "    \n",
    "    #print path\n",
    "    read_mat = np.load('%s/microstate_tx_mat.npy'%path)\n",
    "    csr_mat = read_mat.item()\n",
    "    dense_mat = csr_mat.todense()\n",
    "    \n",
    "    evalue, evector = linalg.eigs(dense_mat,k=8)\n",
    "    evalue, evector = evalue.real, evector.real\n",
    "    \n",
    "    cnt=0\n",
    "    for val in evalue:\n",
    "        if val == evalue.max():\n",
    "            break\n",
    "        cnt+=1\n",
    "            \n",
    "    return abs(evector[:,cnt])"
   ]
  },
  {
   "cell_type": "code",
   "execution_count": 6,
   "metadata": {
    "collapsed": false,
    "deletable": true,
    "editable": true
   },
   "outputs": [
    {
     "name": "stdout",
     "output_type": "stream",
     "text": [
      "Found 100 .gro microstates\n"
     ]
    },
    {
     "ename": "IOError",
     "evalue": "[Errno 2] No such file or directory: 'iter3/microstate_tx_mat.npy'",
     "output_type": "error",
     "traceback": [
      "\u001b[0;31m---------------------------------------------------------------------------\u001b[0m",
      "\u001b[0;31mIOError\u001b[0m                                   Traceback (most recent call last)",
      "\u001b[0;32m<ipython-input-6-c6400388df94>\u001b[0m in \u001b[0;36m<module>\u001b[0;34m()\u001b[0m\n\u001b[1;32m      4\u001b[0m \u001b[0;34m\u001b[0m\u001b[0m\n\u001b[1;32m      5\u001b[0m     \u001b[0mphi_psi_to_file\u001b[0m\u001b[0;34m(\u001b[0m\u001b[0;34m'iter%s'\u001b[0m\u001b[0;34m%\u001b[0m\u001b[0mi\u001b[0m\u001b[0;34m)\u001b[0m\u001b[0;34m\u001b[0m\u001b[0m\n\u001b[0;32m----> 6\u001b[0;31m     \u001b[0mpmf_plot\u001b[0m\u001b[0;34m(\u001b[0m\u001b[0;34m'iter%s'\u001b[0m\u001b[0;34m%\u001b[0m\u001b[0mi\u001b[0m\u001b[0;34m)\u001b[0m\u001b[0;34m\u001b[0m\u001b[0m\n\u001b[0m",
      "\u001b[0;32m<ipython-input-4-10a7a95cc632>\u001b[0m in \u001b[0;36mpmf_plot\u001b[0;34m(path)\u001b[0m\n\u001b[1;32m     12\u001b[0m     \u001b[0mf\u001b[0m\u001b[0;34m.\u001b[0m\u001b[0mclose\u001b[0m\u001b[0;34m(\u001b[0m\u001b[0;34m)\u001b[0m\u001b[0;34m\u001b[0m\u001b[0m\n\u001b[1;32m     13\u001b[0m \u001b[0;34m\u001b[0m\u001b[0m\n\u001b[0;32m---> 14\u001b[0;31m     \u001b[0mev\u001b[0m \u001b[0;34m=\u001b[0m \u001b[0mget_pdf\u001b[0m\u001b[0;34m(\u001b[0m\u001b[0mpath\u001b[0m\u001b[0;34m)\u001b[0m\u001b[0;34m\u001b[0m\u001b[0m\n\u001b[0m\u001b[1;32m     15\u001b[0m \u001b[0;34m\u001b[0m\u001b[0m\n\u001b[1;32m     16\u001b[0m     \u001b[0;31m#print ev\u001b[0m\u001b[0;34m\u001b[0m\u001b[0;34m\u001b[0m\u001b[0m\n",
      "\u001b[0;32m<ipython-input-5-13e020a8d4a8>\u001b[0m in \u001b[0;36mget_pdf\u001b[0;34m(path)\u001b[0m\n\u001b[1;32m      2\u001b[0m \u001b[0;34m\u001b[0m\u001b[0m\n\u001b[1;32m      3\u001b[0m     \u001b[0;31m#print path\u001b[0m\u001b[0;34m\u001b[0m\u001b[0;34m\u001b[0m\u001b[0m\n\u001b[0;32m----> 4\u001b[0;31m     \u001b[0mread_mat\u001b[0m \u001b[0;34m=\u001b[0m \u001b[0mnp\u001b[0m\u001b[0;34m.\u001b[0m\u001b[0mload\u001b[0m\u001b[0;34m(\u001b[0m\u001b[0;34m'%s/microstate_tx_mat.npy'\u001b[0m\u001b[0;34m%\u001b[0m\u001b[0mpath\u001b[0m\u001b[0;34m)\u001b[0m\u001b[0;34m\u001b[0m\u001b[0m\n\u001b[0m\u001b[1;32m      5\u001b[0m     \u001b[0mcsr_mat\u001b[0m \u001b[0;34m=\u001b[0m \u001b[0mread_mat\u001b[0m\u001b[0;34m.\u001b[0m\u001b[0mitem\u001b[0m\u001b[0;34m(\u001b[0m\u001b[0;34m)\u001b[0m\u001b[0;34m\u001b[0m\u001b[0m\n\u001b[1;32m      6\u001b[0m     \u001b[0mdense_mat\u001b[0m \u001b[0;34m=\u001b[0m \u001b[0mcsr_mat\u001b[0m\u001b[0;34m.\u001b[0m\u001b[0mtodense\u001b[0m\u001b[0;34m(\u001b[0m\u001b[0;34m)\u001b[0m\u001b[0;34m\u001b[0m\u001b[0m\n",
      "\u001b[0;32m/home/vivek/.local/lib/python2.7/site-packages/numpy/lib/npyio.pyc\u001b[0m in \u001b[0;36mload\u001b[0;34m(file, mmap_mode, allow_pickle, fix_imports, encoding)\u001b[0m\n\u001b[1;32m    368\u001b[0m     \u001b[0mown_fid\u001b[0m \u001b[0;34m=\u001b[0m \u001b[0mFalse\u001b[0m\u001b[0;34m\u001b[0m\u001b[0m\n\u001b[1;32m    369\u001b[0m     \u001b[0;32mif\u001b[0m \u001b[0misinstance\u001b[0m\u001b[0;34m(\u001b[0m\u001b[0mfile\u001b[0m\u001b[0;34m,\u001b[0m \u001b[0mbasestring\u001b[0m\u001b[0;34m)\u001b[0m\u001b[0;34m:\u001b[0m\u001b[0;34m\u001b[0m\u001b[0m\n\u001b[0;32m--> 370\u001b[0;31m         \u001b[0mfid\u001b[0m \u001b[0;34m=\u001b[0m \u001b[0mopen\u001b[0m\u001b[0;34m(\u001b[0m\u001b[0mfile\u001b[0m\u001b[0;34m,\u001b[0m \u001b[0;34m\"rb\"\u001b[0m\u001b[0;34m)\u001b[0m\u001b[0;34m\u001b[0m\u001b[0m\n\u001b[0m\u001b[1;32m    371\u001b[0m         \u001b[0mown_fid\u001b[0m \u001b[0;34m=\u001b[0m \u001b[0mTrue\u001b[0m\u001b[0;34m\u001b[0m\u001b[0m\n\u001b[1;32m    372\u001b[0m     \u001b[0;32melif\u001b[0m \u001b[0mis_pathlib_path\u001b[0m\u001b[0;34m(\u001b[0m\u001b[0mfile\u001b[0m\u001b[0;34m)\u001b[0m\u001b[0;34m:\u001b[0m\u001b[0;34m\u001b[0m\u001b[0m\n",
      "\u001b[0;31mIOError\u001b[0m: [Errno 2] No such file or directory: 'iter3/microstate_tx_mat.npy'"
     ]
    }
   ],
   "source": [
    "import glob\n",
    "\n",
    "for i in range(3,4):\n",
    "    \n",
    "    phi_psi_to_file('iter%s'%i)\n",
    "    pmf_plot('iter%s'%i)"
   ]
  },
  {
   "cell_type": "code",
   "execution_count": 359,
   "metadata": {
    "collapsed": false,
    "deletable": true,
    "editable": true
   },
   "outputs": [
    {
     "name": "stdout",
     "output_type": "stream",
     "text": [
      "phi: 8\n",
      "psi: 8\n",
      "pmf: 10\n"
     ]
    }
   ],
   "source": []
  },
  {
   "cell_type": "code",
   "execution_count": 21,
   "metadata": {
    "collapsed": false,
    "deletable": true,
    "editable": true
   },
   "outputs": [
    {
     "name": "stdout",
     "output_type": "stream",
     "text": [
      "(0.67825311942958999, 0.0, 0.0, 1.0)\n"
     ]
    }
   ],
   "source": [
    "cmap = cm.get_cmap('jet_r')\n",
    "print cmap(10)"
   ]
  },
  {
   "cell_type": "code",
   "execution_count": null,
   "metadata": {
    "collapsed": true,
    "deletable": true,
    "editable": true
   },
   "outputs": [],
   "source": []
  }
 ],
 "metadata": {
  "kernelspec": {
   "display_name": "Python 2",
   "language": "python",
   "name": "python2"
  },
  "language_info": {
   "codemirror_mode": {
    "name": "ipython",
    "version": 2
   },
   "file_extension": ".py",
   "mimetype": "text/x-python",
   "name": "python",
   "nbconvert_exporter": "python",
   "pygments_lexer": "ipython2",
   "version": "2.7.12"
  }
 },
 "nbformat": 4,
 "nbformat_minor": 1
}
