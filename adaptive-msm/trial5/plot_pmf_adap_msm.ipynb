{
 "cells": [
  {
   "cell_type": "code",
   "execution_count": 1,
   "metadata": {
    "collapsed": false
   },
   "outputs": [
    {
     "name": "stdout",
     "output_type": "stream",
     "text": [
      "Using matplotlib backend: TkAgg\n"
     ]
    }
   ],
   "source": [
    "import pandas as pd\n",
    "import matplotlib.pyplot as plt\n",
    "from pprint import pprint\n",
    "from math import pi, sqrt, log, degrees\n",
    "import numpy as np\n",
    "\n",
    "from matplotlib import cm\n",
    "\n",
    "pd.set_option('display.precision',14)\n",
    "pd.set_option('display.max_rows', 500)\n",
    "pd.set_option('display.max_columns', 15)\n",
    "pd.set_option('display.width', 1000)\n",
    "pd.set_option('display.width', 1000)\n",
    "\n",
    "%matplotlib\n",
    "FONTSIZE=14"
   ]
  },
  {
   "cell_type": "code",
   "execution_count": 11,
   "metadata": {
    "collapsed": true
   },
   "outputs": [],
   "source": [
    "def phi_psi_to_file(path):\n",
    "\n",
    "    import glob\n",
    "    import os\n",
    "    import matplotlib.pyplot as plt\n",
    "    from math import pi, radians\n",
    "\n",
    "    #macro_states = glob.glob('%s/macro*-0.gro'%path)\n",
    "    #print 'Found {0} .gro macrostates'.format(len(macro_states))\n",
    "    \n",
    "    macro_states = glob.glob('%s/new_run*.gro'%path)\n",
    "    print 'Found {0} .gro microstates'.format(len(macro_states))\n",
    "    \n",
    "    pdb = glob.glob('%s/maxstate*.pdb'%path)\n",
    "    \n",
    "    f = open('phi_psi.txt','w')\n",
    "    f.close()\n",
    "    \n",
    "    for conf in macro_states:\n",
    "\n",
    "        os.system('gmx chi -f {0} -s {1} -rama'.format(conf, pdb[0]))\n",
    "        f=open('ramaPhiPsiALA2.xvg','r')\n",
    "        lines = f.readlines()\n",
    "        f.close()\n",
    "        p1 = float(lines[-1].strip().split(' ')[0].strip())\n",
    "        p2 = float(lines[-1].strip().split(' ')[-1].strip())\n",
    "        phi = p1\n",
    "        psi = p2\n",
    "\n",
    "        os.remove('ramaPhiPsiALA2.xvg')\n",
    "        os.remove('chi.log')\n",
    "        os.remove('order.xvg')\n",
    "        f = open('phi_psi.txt','a')\n",
    "        line = str(phi) + ',' + str(psi) + '\\n'\n",
    "        f.write(line)"
   ]
  },
  {
   "cell_type": "code",
   "execution_count": 16,
   "metadata": {
    "collapsed": true
   },
   "outputs": [],
   "source": [
    "def pmf_plot(path):\n",
    "    \n",
    "    f = open('phi_psi.txt','r')\n",
    "    lines = f.readlines()\n",
    "    phi=[]\n",
    "    psi=[]\n",
    "    \n",
    "    for val in lines:\n",
    "        phi.append(float(val.strip().split(',')[0].strip()))\n",
    "        psi.append(float(val.strip().split(',')[1].strip()))\n",
    "    \n",
    "    f.close()\n",
    "    \n",
    "    ev = np.load('%s/eigen_vector.npy'%path)\n",
    "    pmf = []\n",
    "    \n",
    "    for item in ev[1]:\n",
    "        pmf.append(-1*log(item[0].real))\n",
    "    \n",
    "    \n",
    "    print 'phi:',len(set(phi)), phi\n",
    "    print 'psi:',len(set(psi)), psi\n",
    "    \n",
    "    #plot_2(phi,psi,pmf,path)"
   ]
  },
  {
   "cell_type": "code",
   "execution_count": 17,
   "metadata": {
    "collapsed": false
   },
   "outputs": [],
   "source": [
    "def plot(phi, psi, pmf, path):\n",
    "    plt.figure()\n",
    "    \n",
    "    empty_mat = np.zeros((sqrt(len(set(phi))),sqrt(len(set(psi)))),dtype=float)\n",
    "    extent1 = [min(phi), max(phi), min(psi), max(psi)]\n",
    "    extent2 = [-180, 180,-180, 180]\n",
    "    \n",
    "    phi_linspace = np.linspace(min(phi), max(phi), num=int(sqrt(len(set(phi)))))\n",
    "    psi_linspace = np.linspace(min(psi), max(psi), num=int(sqrt(len(set(psi)))))\n",
    "    \n",
    "    #print empty_mat\n",
    "    \n",
    "    cnt=1\n",
    "    for cnt in range(len(phi)):\n",
    "        x = min(range(len(phi_linspace)), key=lambda i: abs(phi_linspace[i]-phi[cnt]))\n",
    "        y = min(range(len(psi_linspace)), key=lambda i: abs(psi_linspace[i]-psi[cnt]))\n",
    "        val = pmf[cnt]\n",
    "        empty_mat[x,y] += val\n",
    "        cnt+=1\n",
    "            \n",
    "    #print empty_mat\n",
    "    \n",
    "    \n",
    "    ax = plt.imshow(empty_mat, extent=extent1, cmap = cm.get_cmap('jet_r'))\n",
    "    \n",
    "    \n",
    "    cb = plt.colorbar()\n",
    "    cb.set_label('pmf',size=FONTSIZE)\n",
    "    for t in cb.ax.get_yticklabels():\n",
    "         t.set_fontsize(FONTSIZE) \n",
    "    plt.scatter(phi,psi)\n",
    "    \n",
    "    plt.title('Potential of mean force plot - %s'%path, fontsize=FONTSIZE)\n",
    "    plt.xlabel(r'$\\Phi$ Angle [degrees]', fontsize=FONTSIZE)\n",
    "    plt.ylabel(r'$\\Psi$ Angle [degrees]', fontsize=FONTSIZE)\n",
    "    \n",
    "    xticks_1 = np.arange(min(phi),max(phi), float(abs(max(phi)-min(phi))/7))\n",
    "    xticks = np.append(xticks_1,max(phi))\n",
    "    yticks_1 = np.arange(min(psi),max(psi), float(abs(max(psi)-min(psi))/7))\n",
    "    yticks = np.append(yticks_1,max(psi))\n",
    "    plt.xticks(xticks,rotation=90, fontsize=FONTSIZE)\n",
    "    plt.yticks(yticks, fontsize=FONTSIZE)\n",
    "    \n",
    "    plt.grid()\n",
    "    plt.show()"
   ]
  },
  {
   "cell_type": "code",
   "execution_count": 18,
   "metadata": {
    "collapsed": false
   },
   "outputs": [],
   "source": [
    "def plot_2(phi, psi, pmf, path):\n",
    "    plt.figure()\n",
    "    \n",
    "    empty_mat = np.zeros((24,24),dtype=float)\n",
    "    #extent1 = [min(phi), max(phi), min(psi), max(psi)]\n",
    "    extent2 = [-180, 180,-180, 180]\n",
    "    \n",
    "    phi_linspace = np.linspace(-180,180, num=24)\n",
    "    psi_linspace = np.linspace(180,-180, num=24)\n",
    "    \n",
    "    #print phi_linspace\n",
    "    #print psi_linspace\n",
    "    \n",
    "    cnt=0\n",
    "    for cnt in range(len(phi)):\n",
    "        #print '------------------------------'\n",
    "        #print phi[cnt]\n",
    "        #print psi[cnt]\n",
    "        \n",
    "        for i in range(0,len(phi_linspace)-1):\n",
    "            if float(phi_linspace[i]) < float(phi[cnt]) < float(phi_linspace[i+1]):\n",
    "                y=i\n",
    "                print i\n",
    "        \n",
    "        for j in range(0,len(psi_linspace)-1):\n",
    "            if float(psi_linspace[j]) > float(psi[cnt]) > float(psi_linspace[j+1]):\n",
    "                x=j\n",
    "                print j\n",
    "        \n",
    "        #y = min(range(len(phi_linspace)), key=lambda i: abs(phi_linspace[i]-phi[cnt]))\n",
    "        #x = min(range(len(psi_linspace)), key=lambda i: abs(psi_linspace[i]-psi[cnt]))\n",
    "                \n",
    "        #print 'phi: ',y,'psi: ',x\n",
    "        val = pmf[cnt]\n",
    "        #print val\n",
    "        #print cnt\n",
    "        #print '------------------------------'\n",
    "        empty_mat[x,y] += val\n",
    "        cnt+=1\n",
    "            \n",
    "    #print empty_mat\n",
    "    \n",
    "    \n",
    "    ax = plt.imshow(empty_mat, extent=extent2, cmap = cm.get_cmap('jet_r'))\n",
    "    \n",
    "    \n",
    "    cb = plt.colorbar()\n",
    "    cb.set_label('pmf',size=FONTSIZE)\n",
    "    for t in cb.ax.get_yticklabels():\n",
    "         t.set_fontsize(FONTSIZE) \n",
    "    plt.scatter(phi,psi)\n",
    "    \n",
    "    plt.title('Potential of mean force plot - %s'%path, fontsize=FONTSIZE)\n",
    "    plt.xlabel(r'$\\Phi$ Angle [degrees]', fontsize=FONTSIZE)\n",
    "    plt.ylabel(r'$\\Psi$ Angle [degrees]', fontsize=FONTSIZE)\n",
    "    \n",
    "    xticks_1 = np.arange(-180,180, 15)\n",
    "    xticks = np.append(xticks_1,180)\n",
    "    yticks_1 = np.arange(-180, 180,15)\n",
    "    yticks = np.append(yticks_1,180)\n",
    "    plt.xticks(xticks,rotation=90, fontsize=FONTSIZE)\n",
    "    plt.yticks(yticks, fontsize=FONTSIZE)\n",
    "    \n",
    "    plt.grid()\n",
    "    plt.show()"
   ]
  },
  {
   "cell_type": "code",
   "execution_count": 19,
   "metadata": {
    "collapsed": false
   },
   "outputs": [
    {
     "name": "stdout",
     "output_type": "stream",
     "text": [
      "Found 100 .gro microstates\n",
      "phi: 65 [-165.4, -116.945, -91.1451, -97.0364, -65.0795, -125.169, -159.705, -141.647, -55.088, -43.3293, -165.4, -111.811, -136.546, -119.745, -79.7259, -77.6452, -153.58, -112.971, -107.833, -64.0842, -117.389, -60.5143, -123.149, -61.4521, -165.431, -62.2443, -80.141, -79.1564, -129.222, -66.6851, -126.647, -73.398, -51.5839, -87.1496, -73.398, -87.1496, -59.3486, -59.3486, -93.1227, -61.7734, -63.6164, -110.863, -136.592, -55.088, -141.647, -115.053, -60.5143, -146.854, -43.8847, -95.2363, -65.0795, -91.1451, -63.6164, -130.317, -66.3132, -146.561, -116.945, -89.2771, -161.848, -136.592, -98.9266, -97.0364, -43.3293, -63.2459, -113.079, -62.2443, -121.655, -76.7961, -77.781, -140.021, -125.169, -83.3189, -115.053, -103.731, -51.0236, -129.222, -153.561, -110.863, -115.053, -126.647, -115.053, -88.2044, -107.833, -136.592, -87.1496, -119.745, -125.169, -141.647, -84.8061, -124.498, -98.9266, -79.1564, -78.3956, -126.647, -51.0236, -117.389, -65.2611, -79.7259, -87.1496, -126.623]\n",
      "psi: 65 [144.065, 140.567, -18.2178, 12.3008, 151.369, 161.811, 124.656, 175.635, -17.1344, 145.743, 144.065, 166.239, 151.83, 146.32, -179.779, -38.4301, 167.395, -30.9892, 163.928, 155.513, 132.497, 96.3244, 1.44863, -5.51979, 151.6, 142.405, 131.204, 101.077, 2.70004, 5.00202, 5.76408, 158.258, 144.188, 175.562, 158.258, 175.562, 141.789, 141.789, 17.2913, 167.924, -15.9501, 114.559, 148.005, -17.1344, 175.635, 172.568, 96.3244, -159.77, 134.171, 129.065, 151.369, -18.2178, -15.9501, 117.687, 153.997, 161.216, 140.567, -169.83, -30.5141, 148.005, -12.7897, 12.3008, 145.743, 135.828, 166.51, 142.405, 161.995, 159.053, -31.3545, 140.33, 161.811, 167.371, 172.568, -23.2715, -31.6075, 2.70004, 142.806, 114.559, 172.568, 5.76408, 172.568, 119.953, 163.928, 148.005, 175.562, 146.32, 161.811, 175.635, -166.451, -13.324, -12.7897, 101.077, -7.75687, 5.76408, -31.6075, 132.497, 158.484, -179.779, 175.562, 159.63]\n"
     ]
    }
   ],
   "source": [
    "import glob\n",
    "iters = ['iter10']\n",
    "\n",
    "for i in iters:\n",
    "\n",
    "    phi_psi_to_file(i)\n",
    "    pmf_plot(i)"
   ]
  },
  {
   "cell_type": "code",
   "execution_count": null,
   "metadata": {
    "collapsed": true
   },
   "outputs": [],
   "source": []
  },
  {
   "cell_type": "code",
   "execution_count": null,
   "metadata": {
    "collapsed": true
   },
   "outputs": [],
   "source": []
  }
 ],
 "metadata": {
  "kernelspec": {
   "display_name": "Python 2",
   "language": "python",
   "name": "python2"
  },
  "language_info": {
   "codemirror_mode": {
    "name": "ipython",
    "version": 2
   },
   "file_extension": ".py",
   "mimetype": "text/x-python",
   "name": "python",
   "nbconvert_exporter": "python",
   "pygments_lexer": "ipython2",
   "version": "2.7.12"
  }
 },
 "nbformat": 4,
 "nbformat_minor": 1
}
