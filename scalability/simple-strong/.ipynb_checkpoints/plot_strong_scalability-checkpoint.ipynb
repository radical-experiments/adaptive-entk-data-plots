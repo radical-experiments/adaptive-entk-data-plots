{
 "cells": [
  {
   "cell_type": "code",
   "execution_count": 1,
   "metadata": {
    "collapsed": false
   },
   "outputs": [
    {
     "name": "stdout",
     "output_type": "stream",
     "text": [
      "Using matplotlib backend: TkAgg\n"
     ]
    }
   ],
   "source": [
    "import pandas as pd\n",
    "import matplotlib.pyplot as plt\n",
    "import glob\n",
    "import os\n",
    "\n",
    "%matplotlib \n",
    "\n",
    "pd.set_option('display.precision',14)\n",
    "pd.set_option('display.max_rows', 500)\n",
    "pd.set_option('display.max_columns', 15)\n",
    "pd.set_option('display.width', 1000)\n",
    "pd.set_option('display.width', 1000)"
   ]
  },
  {
   "cell_type": "code",
   "execution_count": 2,
   "metadata": {
    "collapsed": true
   },
   "outputs": [],
   "source": [
    "def get_resourcehandle_dataframe(path):\n",
    "    \n",
    "    f = glob.glob('%s/entk.resource*.prof'%path)\n",
    "    df = pd.read_csv(f[0])\n",
    "    df = df.drop(0)\n",
    "    df = df.drop(8)\n",
    "    df1 = df.drop(df.columns[[1,2,3,5]], axis=1)\n",
    "    df1.columns = ['time', 'event']\n",
    "    \n",
    "    return df1"
   ]
  },
  {
   "cell_type": "code",
   "execution_count": 3,
   "metadata": {
    "collapsed": false
   },
   "outputs": [],
   "source": [
    "def get_execplugin_dataframe(path):\n",
    "\n",
    "    f = glob.glob('%s/entk.exec*.prof'%path)\n",
    "    df = pd.read_csv(f[0])\n",
    "    df = df.drop(0)\n",
    "    df1 = df.drop(df.columns[[1,2,3,5]], axis=1)  \n",
    "    df1 = df1[df1.event != 'Adding workload']\n",
    "    df1 = df1[df1.event != 'Instantiated']\n",
    "    df1 = df1[df1.event != 'Adding manager']\n",
    "    \n",
    "    df2 = pd.DataFrame(columns=['time','event'])\n",
    "    cnt=0\n",
    "    for row in df1.iterrows():\n",
    "        df2.loc[cnt] = [row[1]['#time'], row[1]['event']]\n",
    "        cnt+=1\n",
    "      \n",
    "    #print df2\n",
    "    return df2"
   ]
  },
  {
   "cell_type": "code",
   "execution_count": 4,
   "metadata": {
    "collapsed": true
   },
   "outputs": [],
   "source": [
    "def get_appman_dataframe(path):\n",
    "    \n",
    "    f = glob.glob('%s/entk.appmanager.0000.prof'%path)[0]\n",
    "    \n",
    "    df = pd.read_csv(f, sep=',', nrows=9,skiprows=1,header=0)\n",
    "    df = df.drop(0)\n",
    "    df1 = df.drop(df.columns[[1,2,3,5]],axis=1)\n",
    "    df1.columns = ['time', 'event']\n",
    "    #print df1\n",
    "    \n",
    "    df = pd.read_csv(f, sep=',', skiprows=13,\n",
    "                    usecols=['time', 'name', 'uid', 'state', 'pattern', 'iteration', 'stage', 'task', 'event', 'msg'],\n",
    "                    names=['time', 'name', 'uid', 'state', 'pattern', 'iteration', 'stage', 'task', 'event', 'msg'],\n",
    "                    skipinitialspace=True)\n",
    "    df2 = df.drop(df.columns[[1,2,3,4,9]],axis=1)\n",
    "    \n",
    "    df3 = df1.merge(df2, how='outer')\n",
    "    \n",
    "    #print df3      \n",
    "    return df3"
   ]
  },
  {
   "cell_type": "code",
   "execution_count": 34,
   "metadata": {
    "collapsed": false
   },
   "outputs": [
    {
     "name": "stdout",
     "output_type": "stream",
     "text": [
      "\n"
     ]
    }
   ],
   "source": [
    "def compute_overheads(df_am, df_rh, df_ep, tasks):\n",
    "    \n",
    "    #-------------------------------------------------------------------------\n",
    "    # Resource Handle\n",
    "    #-------------------------------------------------------------------------\n",
    "    # Cost of allocate\n",
    "    overhead_rh_1 = df_rh['time'][5] - df_rh['time'][2]\n",
    "    overhead_rh_2 = df_rh['time'][9] - df_rh['time'][6]\n",
    "    \n",
    "    # Cost of run\n",
    "    overhead_rh_3 = df_rh['time'][11] - df_rh['time'][10]\n",
    "    \n",
    "    # Cost of deallocation\n",
    "    overhead_rh_4 = df_rh['time'][15] - df_rh['time'][13]\n",
    "    \n",
    "    # Overhead in resource handle\n",
    "    overhead_rh = overhead_rh_1 + overhead_rh_2 + overhead_rh_3 + overhead_rh_4\n",
    "    \n",
    "    #-------------------------------------------------------------------------\n",
    "    \n",
    "    #-------------------------------------------------------------------------\n",
    "    # App Manager\n",
    "    #-------------------------------------------------------------------------\n",
    "    \n",
    "    # Cost of registering kernels\n",
    "    overhead_am_1 = df_am['time'][2] - df_am['time'][1] + \\\n",
    "                    df_am['time'][4] - df_am['time'][3] + \\\n",
    "                    df_am['time'][6] - df_am['time'][5] + \\\n",
    "                    df_am['time'][8] - df_am['time'][7] + \\\n",
    "                    df_am['time'][10] - df_am['time'][9]\n",
    "    \n",
    "    # Cost of creating record\n",
    "    overhead_am_2 = df_am['time'][12] - df_am['time'][11]\n",
    "    \n",
    "    # Cost of maintaining eop\n",
    "    iteration = 1\n",
    "    max_stage = 2\n",
    "    max_task=tasks\n",
    "    \n",
    "    \n",
    "    \n",
    "    overhead_am_3 = 0.0\n",
    "\n",
    "    for stage in range(1, max_stage+1):\n",
    "        \n",
    "        if stage == 1:\n",
    "                        \n",
    "            for task in range(1, max_task+1):\n",
    "                temp_df = df_am[(df_am.stage == 'stage: %s'%stage)&(df_am.task == 'task: %s'%task)]\n",
    "                \n",
    "                if task == 1:\n",
    "                    #print temp_df\n",
    "                    \n",
    "                    overhead_am_3 += temp_df['time'][temp_df[temp_df.event == 'creating'].index.tolist()[0]] - \\\n",
    "                    temp_df['time'][temp_df[temp_df.event == 'starting'].index.tolist()[0]]\n",
    "                \n",
    "                #print 'stage:',stage,' task:',task\n",
    "                #print 'creating:',temp_df['time'][temp_df[temp_df.event == 'recorded'].index.tolist()[0]]\n",
    "                #print 'starting:',temp_df['time'][temp_df[temp_df.event == 'recording'].index.tolist()[0]]\n",
    "                \n",
    "                overhead_am_3 += temp_df['time'][temp_df[temp_df.event == 'recorded'].index.tolist()[0]] - \\\n",
    "                temp_df['time'][temp_df[temp_df.event == 'recording'].index.tolist()[0]]\n",
    "                    \n",
    "                overhead_am_3 += temp_df['time'][temp_df[temp_df.event == 'determining next stage'].index.tolist()[0]] - \\\n",
    "                temp_df['time'][temp_df[temp_df.event == 'determined next stage'].index.tolist()[0]]                \n",
    "                \n",
    "        else:\n",
    "            \n",
    "            for task in range(1, max_task+1):\n",
    "                temp_df = df_am[(df_am.stage == 'stage: %s'%stage)&(df_am.task == 'task: %s'%task)]\n",
    "                \n",
    "                #if task == 1:\n",
    "                #    print temp_df\n",
    "                #print 'stage:',stage,' task:',task\n",
    "                #print 'creating:',temp_df['time'][temp_df[temp_df.event == 'recorded'].index.tolist()[0]]\n",
    "                #print 'starting:',temp_df['time'][temp_df[temp_df.event == 'recording'].index.tolist()[0]]\n",
    "                \n",
    "                overhead_am_3 += temp_df['time'][temp_df[temp_df.event == 'creating'].index.tolist()[0]] - \\\n",
    "                temp_df['time'][temp_df[temp_df.event == 'starting'].index.tolist()[0]] \n",
    "                    \n",
    "                #print temp_df['time'][temp_df[temp_df.event == 'recorded'].index.tolist()[0]]\n",
    "                \n",
    "                overhead_am_3 += temp_df['time'][temp_df[temp_df.event == 'recorded'].index.tolist()[0]] - \\\n",
    "                temp_df['time'][temp_df[temp_df.event == 'recording'].index.tolist()[0]]\n",
    "                    \n",
    "                overhead_am_3 += temp_df['time'][temp_df[temp_df.event == 'determining next stage'].index.tolist()[0]] - \\\n",
    "                temp_df['time'][temp_df[temp_df.event == 'determined next stage'].index.tolist()[0]]\n",
    "                \n",
    "    # Overhead in app manager\n",
    "    overhead_am = overhead_am_1 + overhead_am_2  \n",
    "    \n",
    "    #-------------------------------------------------------------------------\n",
    "    \n",
    "    #-------------------------------------------------------------------------\n",
    "    # Exec plugins\n",
    "    #-------------------------------------------------------------------------\n",
    "    \n",
    "    # Cost of creating + submitting units\n",
    "    overhead_ep = 0.0\n",
    "    cnt=0\n",
    "    while cnt < df_ep.time.count()/2:\n",
    "        diff  = df_ep['time'][2*cnt+1] - df_ep['time'][2*cnt]\n",
    "        overhead_ep += diff\n",
    "        cnt+=1\n",
    "    #-------------------------------------------------------------------------\n",
    "    \n",
    "    #print overhead_rh, overhead_am, overhead_ep\n",
    "    return overhead_rh + overhead_am + overhead_ep\n",
    "    #print df_am"
   ]
  },
  {
   "cell_type": "code",
   "execution_count": 35,
   "metadata": {
    "collapsed": false
   },
   "outputs": [],
   "source": [
    "def get_overheads(tasks, path):\n",
    "    \n",
    "    df1 = get_appman_dataframe(path)    \n",
    "    df2 = get_resourcehandle_dataframe(path)\n",
    "    df3 = get_execplugin_dataframe(path)\n",
    "   \n",
    "    overhead = compute_overheads(df1, df2, df3, tasks)\n",
    "    \n",
    "    return overhead"
   ]
  },
  {
   "cell_type": "code",
   "execution_count": 36,
   "metadata": {
    "collapsed": true
   },
   "outputs": [],
   "source": [
    "def get_exectime():\n",
    "    \n",
    "    df = pd.read_csv('./strong-profiles.csv',skipinitialspace=True)\n",
    "    return df"
   ]
  },
  {
   "cell_type": "code",
   "execution_count": 38,
   "metadata": {
    "collapsed": false
   },
   "outputs": [
    {
     "name": "stdout",
     "output_type": "stream",
     "text": [
      "256\n",
      "1024\n",
      "2048\n",
      "4096\n"
     ]
    }
   ],
   "source": [
    "cores = [256, 1024, 2048, 4096]\n",
    "task = 2048\n",
    "overheads = []\n",
    "\n",
    "for core in cores:\n",
    "    path = './set_t2048_c%s'%(core)\n",
    "    print core\n",
    "    overheads.append(get_overheads(task, path))"
   ]
  },
  {
   "cell_type": "code",
   "execution_count": 39,
   "metadata": {
    "collapsed": false
   },
   "outputs": [
    {
     "name": "stdout",
     "output_type": "stream",
     "text": [
      "                 Execution time       EnTK overhead\n",
      "2048,256   11196.35580020000089  501.06660294532776\n",
      "2048,1024   3304.84720015999983  511.30890917778015\n",
      "2048,2048   2031.80439997000008  505.21430039405823\n",
      "2048,4096   1370.44120002000000  480.83089804649353\n"
     ]
    }
   ],
   "source": [
    "timing_df = get_exectime()\n",
    "timing_df['overhead'] = overheads\n",
    "timing_df.columns = ['Tasks','Cores','Execution time','EnTK overhead']\n",
    "plot_df = pd.DataFrame(columns=['Execution time','EnTK overhead'])\n",
    "for row in timing_df.iterrows():\n",
    "    task = int(row[1]['Tasks'])\n",
    "    core = int(row[1]['Cores'])\n",
    "    et = row[1]['Execution time']\n",
    "    ov = row[1]['EnTK overhead']\n",
    "    plot_df.loc['%s,%s'%(task,core)] = [et, ov]\n",
    "print plot_df"
   ]
  },
  {
   "cell_type": "code",
   "execution_count": 40,
   "metadata": {
    "collapsed": false
   },
   "outputs": [
    {
     "data": {
      "text/plain": [
       "(array([0, 1, 2, 3]), <a list of 4 Text xticklabel objects>)"
      ]
     },
     "execution_count": 40,
     "metadata": {},
     "output_type": "execute_result"
    }
   ],
   "source": [
    "plt.figure()\n",
    "FONTSIZE=26\n",
    "ax = plot_df.plot(kind='bar', y=['EnTK overhead','Execution time'], fontsize=FONTSIZE,\n",
    "                   title='EnTK execution time and overhead with decreasing tasks-to-cores ratio')\n",
    "ax.set_xlabel('Tasks,Cores (cores per task=2)', fontsize=FONTSIZE)\n",
    "ax.set_ylabel('Time (seconds)', fontsize=FONTSIZE)\n",
    "ax.set_title(ax.get_title(),fontsize=FONTSIZE+4)\n",
    "ax.set_ylim(0,15000)\n",
    "plt.legend(loc=1,prop={'size':FONTSIZE})\n",
    "plt.xticks(rotation=0)"
   ]
  },
  {
   "cell_type": "code",
   "execution_count": null,
   "metadata": {
    "collapsed": true
   },
   "outputs": [],
   "source": []
  }
 ],
 "metadata": {
  "celltoolbar": "Edit Metadata",
  "kernelspec": {
   "display_name": "Python 2",
   "language": "python",
   "name": "python2"
  },
  "language_info": {
   "codemirror_mode": {
    "name": "ipython",
    "version": 2
   },
   "file_extension": ".py",
   "mimetype": "text/x-python",
   "name": "python",
   "nbconvert_exporter": "python",
   "pygments_lexer": "ipython2",
   "version": "2.7.12"
  }
 },
 "nbformat": 4,
 "nbformat_minor": 1
}
