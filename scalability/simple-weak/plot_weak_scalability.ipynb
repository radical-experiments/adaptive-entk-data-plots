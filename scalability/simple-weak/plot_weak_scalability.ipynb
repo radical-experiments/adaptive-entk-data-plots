{
 "cells": [
  {
   "cell_type": "code",
   "execution_count": 1,
   "metadata": {
    "collapsed": false
   },
   "outputs": [
    {
     "name": "stdout",
     "output_type": "stream",
     "text": [
      "Using matplotlib backend: TkAgg\n"
     ]
    }
   ],
   "source": [
    "import pandas as pd\n",
    "import matplotlib.pyplot as plt\n",
    "import glob\n",
    "import os\n",
    "\n",
    "%matplotlib \n",
    "\n",
    "pd.set_option('display.precision',14)\n",
    "pd.set_option('display.max_rows', 500)\n",
    "pd.set_option('display.max_columns', 15)\n",
    "pd.set_option('display.width', 1000)\n",
    "pd.set_option('display.width', 1000)"
   ]
  },
  {
   "cell_type": "code",
   "execution_count": 2,
   "metadata": {
    "collapsed": true
   },
   "outputs": [],
   "source": [
    "def get_resourcehandle_dataframe(path):\n",
    "    \n",
    "    f = glob.glob('%s/entk.resource*.prof'%path)\n",
    "    df = pd.read_csv(f[0])\n",
    "    df = df.drop(0)\n",
    "    df = df.drop(8)\n",
    "    df1 = df.drop(df.columns[[1,2,3,5]], axis=1)\n",
    "    df1.columns = ['time', 'event']\n",
    "    \n",
    "    return df1"
   ]
  },
  {
   "cell_type": "code",
   "execution_count": 3,
   "metadata": {
    "collapsed": false
   },
   "outputs": [],
   "source": [
    "def get_execplugin_dataframe(path):\n",
    "\n",
    "    f = glob.glob('%s/entk.exec*.prof'%path)\n",
    "    df = pd.read_csv(f[0])\n",
    "    df = df.drop(0)\n",
    "    df1 = df.drop(df.columns[[1,2,3,5]], axis=1)  \n",
    "    df1 = df1[df1.event != 'Adding workload']\n",
    "    df1 = df1[df1.event != 'Instantiated']\n",
    "    df1 = df1[df1.event != 'Adding manager']\n",
    "    \n",
    "    df2 = pd.DataFrame(columns=['time','event'])\n",
    "    cnt=0\n",
    "    for row in df1.iterrows():\n",
    "        df2.loc[cnt] = [row[1]['#time'], row[1]['event']]\n",
    "        cnt+=1\n",
    "      \n",
    "    #print df2\n",
    "    return df2"
   ]
  },
  {
   "cell_type": "code",
   "execution_count": 4,
   "metadata": {
    "collapsed": true
   },
   "outputs": [],
   "source": [
    "def get_appman_dataframe(path):\n",
    "    \n",
    "    f = glob.glob('%s/entk.appmanager.0000.prof'%path)[0]\n",
    "    \n",
    "    df = pd.read_csv(f, sep=',', nrows=9,skiprows=1,header=0)\n",
    "    df = df.drop(0)\n",
    "    df1 = df.drop(df.columns[[1,2,3,5]],axis=1)\n",
    "    df1.columns = ['time', 'event']\n",
    "    #print df1\n",
    "    \n",
    "    df = pd.read_csv(f, sep=',', skiprows=13,\n",
    "                    usecols=['time', 'name', 'uid', 'state', 'pattern', 'iteration', 'stage', 'task', 'event', 'msg'],\n",
    "                    names=['time', 'name', 'uid', 'state', 'pattern', 'iteration', 'stage', 'task', 'event', 'msg'],\n",
    "                    skipinitialspace=True)\n",
    "    df2 = df.drop(df.columns[[1,2,3,4,9]],axis=1)\n",
    "    \n",
    "    df3 = df1.merge(df2, how='outer')\n",
    "    \n",
    "    #print df3      \n",
    "    return df3"
   ]
  },
  {
   "cell_type": "code",
   "execution_count": 5,
   "metadata": {
    "collapsed": false
   },
   "outputs": [],
   "source": [
    "def compute_overheads(df_am, df_rh, df_ep, tasks):\n",
    "    \n",
    "    #-------------------------------------------------------------------------\n",
    "    # Resource Handle\n",
    "    #-------------------------------------------------------------------------\n",
    "    # Cost of allocate\n",
    "    overhead_rh_1 = df_rh['time'][5] - df_rh['time'][2]\n",
    "    overhead_rh_2 = df_rh['time'][9] - df_rh['time'][6]\n",
    "    \n",
    "    # Cost of run\n",
    "    overhead_rh_3 = df_rh['time'][11] - df_rh['time'][10]\n",
    "    \n",
    "    # Cost of deallocation\n",
    "    overhead_rh_4 = df_rh['time'][15] - df_rh['time'][13]\n",
    "    \n",
    "    # Overhead in resource handle\n",
    "    overhead_rh = overhead_rh_1 + overhead_rh_2 + overhead_rh_3 + overhead_rh_4\n",
    "    \n",
    "    #-------------------------------------------------------------------------\n",
    "    \n",
    "    #-------------------------------------------------------------------------\n",
    "    # App Manager\n",
    "    #-------------------------------------------------------------------------\n",
    "    \n",
    "    # Cost of registering kernels\n",
    "    overhead_am_1 = df_am['time'][2] - df_am['time'][1] + \\\n",
    "                    df_am['time'][4] - df_am['time'][3] + \\\n",
    "                    df_am['time'][6] - df_am['time'][5] + \\\n",
    "                    df_am['time'][8] - df_am['time'][7] + \\\n",
    "                    df_am['time'][10] - df_am['time'][9]\n",
    "    \n",
    "    # Cost of creating record\n",
    "    overhead_am_2 = df_am['time'][12] - df_am['time'][11]\n",
    "    \n",
    "    # Cost of maintaining eop\n",
    "    iteration = 1\n",
    "    max_stage = 2\n",
    "    max_task=tasks\n",
    "    \n",
    "    \n",
    "    \n",
    "    overhead_am_3 = 0.0\n",
    "\n",
    "    for stage in range(1, max_stage+1):\n",
    "        \n",
    "        if stage == 1:\n",
    "                        \n",
    "            for task in range(1, max_task+1):\n",
    "                temp_df = df_am[(df_am.stage == 'stage: %s'%stage)&(df_am.task == 'task: %s'%task)]\n",
    "                \n",
    "                if task == 1:\n",
    "                    #print temp_df\n",
    "                    \n",
    "                    overhead_am_3 += temp_df['time'][temp_df[temp_df.event == 'creating'].index.tolist()[0]] - \\\n",
    "                    temp_df['time'][temp_df[temp_df.event == 'starting'].index.tolist()[0]]\n",
    "                    \n",
    "                overhead_am_3 += temp_df['time'][temp_df[temp_df.event == 'recorded'].index.tolist()[0]] - \\\n",
    "                temp_df['time'][temp_df[temp_df.event == 'recording'].index.tolist()[0]]\n",
    "                    \n",
    "                overhead_am_3 += temp_df['time'][temp_df[temp_df.event == 'determining next stage'].index.tolist()[0]] - \\\n",
    "                temp_df['time'][temp_df[temp_df.event == 'determined next stage'].index.tolist()[0]]                \n",
    "                \n",
    "        else:\n",
    "            \n",
    "            for task in range(1, max_task+1):\n",
    "                temp_df = df_am[(df_am.stage == 'stage: %s'%stage)&(df_am.task == 'task: %s'%task)]\n",
    "                \n",
    "                #if task == 1:\n",
    "                #    print temp_df\n",
    "                #print 'stage:',stage,' task:',task\n",
    "                #print 'creating:',temp_df['time'][temp_df[temp_df.event == 'creating'].index.tolist()[0]]\n",
    "                #print 'starting:',temp_df['time'][temp_df[temp_df.event == 'starting'].index.tolist()[0]]\n",
    "                \n",
    "                overhead_am_3 += temp_df['time'][temp_df[temp_df.event == 'creating'].index.tolist()[0]] - \\\n",
    "                temp_df['time'][temp_df[temp_df.event == 'starting'].index.tolist()[0]] \n",
    "                    \n",
    "                #print temp_df['time'][temp_df[temp_df.event == 'recorded'].index.tolist()[0]]\n",
    "                \n",
    "                #overhead_am_3 += temp_df['time'][temp_df[temp_df.event == 'recorded'].index.tolist()[0]] - \\\n",
    "                #temp_df['time'][temp_df[temp_df.event == 'recording'].index.tolist()[0]]\n",
    "                    \n",
    "                overhead_am_3 += temp_df['time'][temp_df[temp_df.event == 'determining next stage'].index.tolist()[0]] - \\\n",
    "                temp_df['time'][temp_df[temp_df.event == 'determined next stage'].index.tolist()[0]]\n",
    "                \n",
    "    # Overhead in app manager\n",
    "    overhead_am = overhead_am_1 + overhead_am_2  \n",
    "    \n",
    "    #-------------------------------------------------------------------------\n",
    "    \n",
    "    #-------------------------------------------------------------------------\n",
    "    # Exec plugins\n",
    "    #-------------------------------------------------------------------------\n",
    "    \n",
    "    # Cost of creating + submitting units\n",
    "    overhead_ep = 0.0\n",
    "    cnt=0\n",
    "    while cnt < df_ep.time.count()/2:\n",
    "        diff  = df_ep['time'][2*cnt+1] - df_ep['time'][2*cnt]\n",
    "        overhead_ep += diff\n",
    "        cnt+=1\n",
    "    #-------------------------------------------------------------------------\n",
    "    \n",
    "    #print overhead_rh, overhead_am, overhead_ep\n",
    "    return overhead_rh + overhead_am + overhead_ep\n",
    "    #print df_am"
   ]
  },
  {
   "cell_type": "code",
   "execution_count": 6,
   "metadata": {
    "collapsed": false
   },
   "outputs": [],
   "source": [
    "def get_overheads(tasks, path):\n",
    "    \n",
    "    df1 = get_appman_dataframe(path)    \n",
    "    df2 = get_resourcehandle_dataframe(path)\n",
    "    df3 = get_execplugin_dataframe(path)\n",
    "   \n",
    "    overhead = compute_overheads(df1, df2, df3, tasks)\n",
    "    \n",
    "    return overhead"
   ]
  },
  {
   "cell_type": "code",
   "execution_count": 7,
   "metadata": {
    "collapsed": true
   },
   "outputs": [],
   "source": [
    "def get_exectime():\n",
    "    \n",
    "    df = pd.read_csv('./weak-profiles.csv',skipinitialspace=True)\n",
    "    return df"
   ]
  },
  {
   "cell_type": "code",
   "execution_count": 8,
   "metadata": {
    "collapsed": false
   },
   "outputs": [
    {
     "ename": "KeyboardInterrupt",
     "evalue": "",
     "output_type": "error",
     "traceback": [
      "\u001b[0;31m---------------------------------------------------------------------------\u001b[0m",
      "\u001b[0;31mKeyboardInterrupt\u001b[0m                         Traceback (most recent call last)",
      "\u001b[0;32m<ipython-input-8-d5d6a665522c>\u001b[0m in \u001b[0;36m<module>\u001b[0;34m()\u001b[0m\n\u001b[1;32m      4\u001b[0m \u001b[0;32mfor\u001b[0m \u001b[0mtask\u001b[0m \u001b[0;32min\u001b[0m \u001b[0mtasks\u001b[0m\u001b[0;34m:\u001b[0m\u001b[0;34m\u001b[0m\u001b[0m\n\u001b[1;32m      5\u001b[0m     \u001b[0mpath\u001b[0m \u001b[0;34m=\u001b[0m \u001b[0;34m'./set_%s'\u001b[0m\u001b[0;34m%\u001b[0m\u001b[0;34m(\u001b[0m\u001b[0mtask\u001b[0m\u001b[0;34m)\u001b[0m\u001b[0;34m\u001b[0m\u001b[0m\n\u001b[0;32m----> 6\u001b[0;31m     \u001b[0moverheads\u001b[0m\u001b[0;34m.\u001b[0m\u001b[0mappend\u001b[0m\u001b[0;34m(\u001b[0m\u001b[0mget_overheads\u001b[0m\u001b[0;34m(\u001b[0m\u001b[0mtask\u001b[0m\u001b[0;34m,\u001b[0m \u001b[0mpath\u001b[0m\u001b[0;34m)\u001b[0m\u001b[0;34m)\u001b[0m\u001b[0;34m\u001b[0m\u001b[0m\n\u001b[0m",
      "\u001b[0;32m<ipython-input-6-9542ec4c7866>\u001b[0m in \u001b[0;36mget_overheads\u001b[0;34m(tasks, path)\u001b[0m\n\u001b[1;32m      3\u001b[0m     \u001b[0mdf1\u001b[0m \u001b[0;34m=\u001b[0m \u001b[0mget_appman_dataframe\u001b[0m\u001b[0;34m(\u001b[0m\u001b[0mpath\u001b[0m\u001b[0;34m)\u001b[0m\u001b[0;34m\u001b[0m\u001b[0m\n\u001b[1;32m      4\u001b[0m     \u001b[0mdf2\u001b[0m \u001b[0;34m=\u001b[0m \u001b[0mget_resourcehandle_dataframe\u001b[0m\u001b[0;34m(\u001b[0m\u001b[0mpath\u001b[0m\u001b[0;34m)\u001b[0m\u001b[0;34m\u001b[0m\u001b[0m\n\u001b[0;32m----> 5\u001b[0;31m     \u001b[0mdf3\u001b[0m \u001b[0;34m=\u001b[0m \u001b[0mget_execplugin_dataframe\u001b[0m\u001b[0;34m(\u001b[0m\u001b[0mpath\u001b[0m\u001b[0;34m)\u001b[0m\u001b[0;34m\u001b[0m\u001b[0m\n\u001b[0m\u001b[1;32m      6\u001b[0m \u001b[0;34m\u001b[0m\u001b[0m\n\u001b[1;32m      7\u001b[0m     \u001b[0moverhead\u001b[0m \u001b[0;34m=\u001b[0m \u001b[0mcompute_overheads\u001b[0m\u001b[0;34m(\u001b[0m\u001b[0mdf1\u001b[0m\u001b[0;34m,\u001b[0m \u001b[0mdf2\u001b[0m\u001b[0;34m,\u001b[0m \u001b[0mdf3\u001b[0m\u001b[0;34m,\u001b[0m \u001b[0mtasks\u001b[0m\u001b[0;34m)\u001b[0m\u001b[0;34m\u001b[0m\u001b[0m\n",
      "\u001b[0;32m<ipython-input-3-119be4b41fb9>\u001b[0m in \u001b[0;36mget_execplugin_dataframe\u001b[0;34m(path)\u001b[0m\n\u001b[1;32m     12\u001b[0m     \u001b[0mcnt\u001b[0m\u001b[0;34m=\u001b[0m\u001b[0;36m0\u001b[0m\u001b[0;34m\u001b[0m\u001b[0m\n\u001b[1;32m     13\u001b[0m     \u001b[0;32mfor\u001b[0m \u001b[0mrow\u001b[0m \u001b[0;32min\u001b[0m \u001b[0mdf1\u001b[0m\u001b[0;34m.\u001b[0m\u001b[0miterrows\u001b[0m\u001b[0;34m(\u001b[0m\u001b[0;34m)\u001b[0m\u001b[0;34m:\u001b[0m\u001b[0;34m\u001b[0m\u001b[0m\n\u001b[0;32m---> 14\u001b[0;31m         \u001b[0mdf2\u001b[0m\u001b[0;34m.\u001b[0m\u001b[0mloc\u001b[0m\u001b[0;34m[\u001b[0m\u001b[0mcnt\u001b[0m\u001b[0;34m]\u001b[0m \u001b[0;34m=\u001b[0m \u001b[0;34m[\u001b[0m\u001b[0mrow\u001b[0m\u001b[0;34m[\u001b[0m\u001b[0;36m1\u001b[0m\u001b[0;34m]\u001b[0m\u001b[0;34m[\u001b[0m\u001b[0;34m'#time'\u001b[0m\u001b[0;34m]\u001b[0m\u001b[0;34m,\u001b[0m \u001b[0mrow\u001b[0m\u001b[0;34m[\u001b[0m\u001b[0;36m1\u001b[0m\u001b[0;34m]\u001b[0m\u001b[0;34m[\u001b[0m\u001b[0;34m'event'\u001b[0m\u001b[0;34m]\u001b[0m\u001b[0;34m]\u001b[0m\u001b[0;34m\u001b[0m\u001b[0m\n\u001b[0m\u001b[1;32m     15\u001b[0m         \u001b[0mcnt\u001b[0m\u001b[0;34m+=\u001b[0m\u001b[0;36m1\u001b[0m\u001b[0;34m\u001b[0m\u001b[0m\n\u001b[1;32m     16\u001b[0m \u001b[0;34m\u001b[0m\u001b[0m\n",
      "\u001b[0;32m/home/vivek/.local/lib/python2.7/site-packages/pandas/core/indexing.pyc\u001b[0m in \u001b[0;36m__setitem__\u001b[0;34m(self, key, value)\u001b[0m\n\u001b[1;32m    138\u001b[0m             \u001b[0mkey\u001b[0m \u001b[0;34m=\u001b[0m \u001b[0mcom\u001b[0m\u001b[0;34m.\u001b[0m\u001b[0m_apply_if_callable\u001b[0m\u001b[0;34m(\u001b[0m\u001b[0mkey\u001b[0m\u001b[0;34m,\u001b[0m \u001b[0mself\u001b[0m\u001b[0;34m.\u001b[0m\u001b[0mobj\u001b[0m\u001b[0;34m)\u001b[0m\u001b[0;34m\u001b[0m\u001b[0m\n\u001b[1;32m    139\u001b[0m         \u001b[0mindexer\u001b[0m \u001b[0;34m=\u001b[0m \u001b[0mself\u001b[0m\u001b[0;34m.\u001b[0m\u001b[0m_get_setitem_indexer\u001b[0m\u001b[0;34m(\u001b[0m\u001b[0mkey\u001b[0m\u001b[0;34m)\u001b[0m\u001b[0;34m\u001b[0m\u001b[0m\n\u001b[0;32m--> 140\u001b[0;31m         \u001b[0mself\u001b[0m\u001b[0;34m.\u001b[0m\u001b[0m_setitem_with_indexer\u001b[0m\u001b[0;34m(\u001b[0m\u001b[0mindexer\u001b[0m\u001b[0;34m,\u001b[0m \u001b[0mvalue\u001b[0m\u001b[0;34m)\u001b[0m\u001b[0;34m\u001b[0m\u001b[0m\n\u001b[0m\u001b[1;32m    141\u001b[0m \u001b[0;34m\u001b[0m\u001b[0m\n\u001b[1;32m    142\u001b[0m     \u001b[0;32mdef\u001b[0m \u001b[0m_has_valid_type\u001b[0m\u001b[0;34m(\u001b[0m\u001b[0mself\u001b[0m\u001b[0;34m,\u001b[0m \u001b[0mk\u001b[0m\u001b[0;34m,\u001b[0m \u001b[0maxis\u001b[0m\u001b[0;34m)\u001b[0m\u001b[0;34m:\u001b[0m\u001b[0;34m\u001b[0m\u001b[0m\n",
      "\u001b[0;32m/home/vivek/.local/lib/python2.7/site-packages/pandas/core/indexing.pyc\u001b[0m in \u001b[0;36m_setitem_with_indexer\u001b[0;34m(self, indexer, value)\u001b[0m\n\u001b[1;32m    382\u001b[0m                                        name=indexer)\n\u001b[1;32m    383\u001b[0m \u001b[0;34m\u001b[0m\u001b[0m\n\u001b[0;32m--> 384\u001b[0;31m                     \u001b[0mself\u001b[0m\u001b[0;34m.\u001b[0m\u001b[0mobj\u001b[0m\u001b[0;34m.\u001b[0m\u001b[0m_data\u001b[0m \u001b[0;34m=\u001b[0m \u001b[0mself\u001b[0m\u001b[0;34m.\u001b[0m\u001b[0mobj\u001b[0m\u001b[0;34m.\u001b[0m\u001b[0mappend\u001b[0m\u001b[0;34m(\u001b[0m\u001b[0mvalue\u001b[0m\u001b[0;34m)\u001b[0m\u001b[0;34m.\u001b[0m\u001b[0m_data\u001b[0m\u001b[0;34m\u001b[0m\u001b[0m\n\u001b[0m\u001b[1;32m    385\u001b[0m                     \u001b[0mself\u001b[0m\u001b[0;34m.\u001b[0m\u001b[0mobj\u001b[0m\u001b[0;34m.\u001b[0m\u001b[0m_maybe_update_cacher\u001b[0m\u001b[0;34m(\u001b[0m\u001b[0mclear\u001b[0m\u001b[0;34m=\u001b[0m\u001b[0mTrue\u001b[0m\u001b[0;34m)\u001b[0m\u001b[0;34m\u001b[0m\u001b[0m\n\u001b[1;32m    386\u001b[0m                     \u001b[0;32mreturn\u001b[0m \u001b[0mself\u001b[0m\u001b[0;34m.\u001b[0m\u001b[0mobj\u001b[0m\u001b[0;34m\u001b[0m\u001b[0m\n",
      "\u001b[0;32m/home/vivek/.local/lib/python2.7/site-packages/pandas/core/frame.pyc\u001b[0m in \u001b[0;36mappend\u001b[0;34m(self, other, ignore_index, verify_integrity)\u001b[0m\n\u001b[1;32m   4399\u001b[0m             other = DataFrame(other.values.reshape((1, len(other))),\n\u001b[1;32m   4400\u001b[0m                               \u001b[0mindex\u001b[0m\u001b[0;34m=\u001b[0m\u001b[0mindex\u001b[0m\u001b[0;34m,\u001b[0m\u001b[0;34m\u001b[0m\u001b[0m\n\u001b[0;32m-> 4401\u001b[0;31m                               columns=combined_columns)\n\u001b[0m\u001b[1;32m   4402\u001b[0m             \u001b[0mother\u001b[0m \u001b[0;34m=\u001b[0m \u001b[0mother\u001b[0m\u001b[0;34m.\u001b[0m\u001b[0m_convert\u001b[0m\u001b[0;34m(\u001b[0m\u001b[0mdatetime\u001b[0m\u001b[0;34m=\u001b[0m\u001b[0mTrue\u001b[0m\u001b[0;34m,\u001b[0m \u001b[0mtimedelta\u001b[0m\u001b[0;34m=\u001b[0m\u001b[0mTrue\u001b[0m\u001b[0;34m)\u001b[0m\u001b[0;34m\u001b[0m\u001b[0m\n\u001b[1;32m   4403\u001b[0m             \u001b[0;32mif\u001b[0m \u001b[0;32mnot\u001b[0m \u001b[0mself\u001b[0m\u001b[0;34m.\u001b[0m\u001b[0mcolumns\u001b[0m\u001b[0;34m.\u001b[0m\u001b[0mequals\u001b[0m\u001b[0;34m(\u001b[0m\u001b[0mcombined_columns\u001b[0m\u001b[0;34m)\u001b[0m\u001b[0;34m:\u001b[0m\u001b[0;34m\u001b[0m\u001b[0m\n",
      "\u001b[0;32m/home/vivek/.local/lib/python2.7/site-packages/pandas/core/frame.pyc\u001b[0m in \u001b[0;36m__init__\u001b[0;34m(self, data, index, columns, dtype, copy)\u001b[0m\n\u001b[1;32m    295\u001b[0m             \u001b[0;32melse\u001b[0m\u001b[0;34m:\u001b[0m\u001b[0;34m\u001b[0m\u001b[0m\n\u001b[1;32m    296\u001b[0m                 mgr = self._init_ndarray(data, index, columns, dtype=dtype,\n\u001b[0;32m--> 297\u001b[0;31m                                          copy=copy)\n\u001b[0m\u001b[1;32m    298\u001b[0m         \u001b[0;32melif\u001b[0m \u001b[0misinstance\u001b[0m\u001b[0;34m(\u001b[0m\u001b[0mdata\u001b[0m\u001b[0;34m,\u001b[0m \u001b[0;34m(\u001b[0m\u001b[0mlist\u001b[0m\u001b[0;34m,\u001b[0m \u001b[0mtypes\u001b[0m\u001b[0;34m.\u001b[0m\u001b[0mGeneratorType\u001b[0m\u001b[0;34m)\u001b[0m\u001b[0;34m)\u001b[0m\u001b[0;34m:\u001b[0m\u001b[0;34m\u001b[0m\u001b[0m\n\u001b[1;32m    299\u001b[0m             \u001b[0;32mif\u001b[0m \u001b[0misinstance\u001b[0m\u001b[0;34m(\u001b[0m\u001b[0mdata\u001b[0m\u001b[0;34m,\u001b[0m \u001b[0mtypes\u001b[0m\u001b[0;34m.\u001b[0m\u001b[0mGeneratorType\u001b[0m\u001b[0;34m)\u001b[0m\u001b[0;34m:\u001b[0m\u001b[0;34m\u001b[0m\u001b[0m\n",
      "\u001b[0;32m/home/vivek/.local/lib/python2.7/site-packages/pandas/core/frame.pyc\u001b[0m in \u001b[0;36m_init_ndarray\u001b[0;34m(self, values, index, columns, dtype, copy)\u001b[0m\n\u001b[1;32m    463\u001b[0m                     \u001b[0mraise_with_traceback\u001b[0m\u001b[0;34m(\u001b[0m\u001b[0me\u001b[0m\u001b[0;34m)\u001b[0m\u001b[0;34m\u001b[0m\u001b[0m\n\u001b[1;32m    464\u001b[0m \u001b[0;34m\u001b[0m\u001b[0m\n\u001b[0;32m--> 465\u001b[0;31m         \u001b[0mindex\u001b[0m\u001b[0;34m,\u001b[0m \u001b[0mcolumns\u001b[0m \u001b[0;34m=\u001b[0m \u001b[0m_get_axes\u001b[0m\u001b[0;34m(\u001b[0m\u001b[0;34m*\u001b[0m\u001b[0mvalues\u001b[0m\u001b[0;34m.\u001b[0m\u001b[0mshape\u001b[0m\u001b[0;34m)\u001b[0m\u001b[0;34m\u001b[0m\u001b[0m\n\u001b[0m\u001b[1;32m    466\u001b[0m         \u001b[0mvalues\u001b[0m \u001b[0;34m=\u001b[0m \u001b[0mvalues\u001b[0m\u001b[0;34m.\u001b[0m\u001b[0mT\u001b[0m\u001b[0;34m\u001b[0m\u001b[0m\n\u001b[1;32m    467\u001b[0m \u001b[0;34m\u001b[0m\u001b[0m\n",
      "\u001b[0;32m/home/vivek/.local/lib/python2.7/site-packages/pandas/core/frame.pyc\u001b[0m in \u001b[0;36m_get_axes\u001b[0;34m(N, K, index, columns)\u001b[0m\n\u001b[1;32m    430\u001b[0m                 \u001b[0mcolumns\u001b[0m \u001b[0;34m=\u001b[0m \u001b[0m_default_index\u001b[0m\u001b[0;34m(\u001b[0m\u001b[0mK\u001b[0m\u001b[0;34m)\u001b[0m\u001b[0;34m\u001b[0m\u001b[0m\n\u001b[1;32m    431\u001b[0m             \u001b[0;32melse\u001b[0m\u001b[0;34m:\u001b[0m\u001b[0;34m\u001b[0m\u001b[0m\n\u001b[0;32m--> 432\u001b[0;31m                 \u001b[0mcolumns\u001b[0m \u001b[0;34m=\u001b[0m \u001b[0m_ensure_index\u001b[0m\u001b[0;34m(\u001b[0m\u001b[0mcolumns\u001b[0m\u001b[0;34m)\u001b[0m\u001b[0;34m\u001b[0m\u001b[0m\n\u001b[0m\u001b[1;32m    433\u001b[0m             \u001b[0;32mreturn\u001b[0m \u001b[0mindex\u001b[0m\u001b[0;34m,\u001b[0m \u001b[0mcolumns\u001b[0m\u001b[0;34m\u001b[0m\u001b[0m\n\u001b[1;32m    434\u001b[0m \u001b[0;34m\u001b[0m\u001b[0m\n",
      "\u001b[0;32m/home/vivek/.local/lib/python2.7/site-packages/pandas/indexes/base.pyc\u001b[0m in \u001b[0;36m_ensure_index\u001b[0;34m(index_like, copy)\u001b[0m\n\u001b[1;32m   3614\u001b[0m             \u001b[0mindex_like\u001b[0m \u001b[0;34m=\u001b[0m \u001b[0mlist\u001b[0m\u001b[0;34m(\u001b[0m\u001b[0mindex_like\u001b[0m\u001b[0;34m)\u001b[0m\u001b[0;34m\u001b[0m\u001b[0m\n\u001b[1;32m   3615\u001b[0m         \u001b[0;31m# 2200 ?\u001b[0m\u001b[0;34m\u001b[0m\u001b[0;34m\u001b[0m\u001b[0m\n\u001b[0;32m-> 3616\u001b[0;31m         \u001b[0mconverted\u001b[0m\u001b[0;34m,\u001b[0m \u001b[0mall_arrays\u001b[0m \u001b[0;34m=\u001b[0m \u001b[0mlib\u001b[0m\u001b[0;34m.\u001b[0m\u001b[0mclean_index_list\u001b[0m\u001b[0;34m(\u001b[0m\u001b[0mindex_like\u001b[0m\u001b[0;34m)\u001b[0m\u001b[0;34m\u001b[0m\u001b[0m\n\u001b[0m\u001b[1;32m   3617\u001b[0m \u001b[0;34m\u001b[0m\u001b[0m\n\u001b[1;32m   3618\u001b[0m         \u001b[0;32mif\u001b[0m \u001b[0mlen\u001b[0m\u001b[0;34m(\u001b[0m\u001b[0mconverted\u001b[0m\u001b[0;34m)\u001b[0m \u001b[0;34m>\u001b[0m \u001b[0;36m0\u001b[0m \u001b[0;32mand\u001b[0m \u001b[0mall_arrays\u001b[0m\u001b[0;34m:\u001b[0m\u001b[0;34m\u001b[0m\u001b[0m\n",
      "\u001b[0;31mKeyboardInterrupt\u001b[0m: "
     ]
    }
   ],
   "source": [
    "tasks = [128, 256, 512, 1024, 2048]\n",
    "overheads = []\n",
    "\n",
    "for task in tasks:\n",
    "    path = './set_%s'%(task)\n",
    "    overheads.append(get_overheads(task, path))"
   ]
  },
  {
   "cell_type": "code",
   "execution_count": 9,
   "metadata": {
    "collapsed": false
   },
   "outputs": [
    {
     "name": "stdout",
     "output_type": "stream",
     "text": [
      "   Tasks  Cores       Execution time       EnTK overhead\n",
      "0    128    256  1287.37560009999993  159.72899770736694\n",
      "1    256    512  1300.77149987000007  189.46149802207947\n",
      "2    512   1024  1326.18319988000007  204.93249797821045\n",
      "3   1024   2048  1324.81560016000003  290.75659918785095\n",
      "4   2048   4096  1370.44120002000000  480.83089804649353\n"
     ]
    }
   ],
   "source": [
    "timing_df = get_exectime()\n",
    "timing_df['overhead'] = overheads\n",
    "timing_df.columns = ['Tasks','Cores','Execution time','EnTK overhead']\n",
    "plot_df = pd.DataFrame(columns=['Execution time','EnTK overhead'])\n",
    "for row in timing_df.iterrows():\n",
    "    task = int(row[1]['Tasks'])\n",
    "    core = int(row[1]['Cores'])\n",
    "    et = row[1]['Execution time']\n",
    "    ov = row[1]['EnTK overhead']\n",
    "    plot_df.loc['%s,%s'%(task,core)] = [et, ov]\n",
    "print timing_df"
   ]
  },
  {
   "cell_type": "code",
   "execution_count": 10,
   "metadata": {
    "collapsed": false
   },
   "outputs": [
    {
     "data": {
      "text/plain": [
       "(array([0, 1, 2, 3, 4]), <a list of 5 Text xticklabel objects>)"
      ]
     },
     "execution_count": 10,
     "metadata": {},
     "output_type": "execute_result"
    }
   ],
   "source": [
    "plt.figure()\n",
    "FONTSIZE=26\n",
    "ax = plot_df.plot(kind='bar', y=['EnTK overhead','Execution time'], fontsize=FONTSIZE,\n",
    "                   title='EnTK execution time and overhead with constant tasks-to-cores ratio')\n",
    "ax.set_xlabel('Tasks,Cores (cores per task=2)', fontsize=FONTSIZE)\n",
    "ax.set_ylabel('Time (seconds)', fontsize=FONTSIZE)\n",
    "ax.set_title(ax.get_title(),fontsize=FONTSIZE+4)\n",
    "ax.set_ylim(0,1800)\n",
    "plt.legend(loc=1,prop={'size':FONTSIZE})\n",
    "plt.xticks(rotation=0)"
   ]
  },
  {
   "cell_type": "code",
   "execution_count": null,
   "metadata": {
    "collapsed": true
   },
   "outputs": [],
   "source": []
  }
 ],
 "metadata": {
  "celltoolbar": "Edit Metadata",
  "kernelspec": {
   "display_name": "Python 2",
   "language": "python",
   "name": "python2"
  },
  "language_info": {
   "codemirror_mode": {
    "name": "ipython",
    "version": 2
   },
   "file_extension": ".py",
   "mimetype": "text/x-python",
   "name": "python",
   "nbconvert_exporter": "python",
   "pygments_lexer": "ipython2",
   "version": "2.7.12"
  }
 },
 "nbformat": 4,
 "nbformat_minor": 1
}
