{
 "cells": [
  {
   "cell_type": "code",
   "execution_count": 1,
   "metadata": {
    "collapsed": false
   },
   "outputs": [
    {
     "name": "stdout",
     "output_type": "stream",
     "text": [
      "Using matplotlib backend: TkAgg\n"
     ]
    }
   ],
   "source": [
    "# Module imports\n",
    "\n",
    "import pandas as pd\n",
    "import matplotlib.pyplot as plt\n",
    "\n",
    "import os\n",
    "import glob\n",
    "import numpy as np\n",
    "import brewer2mpl\n",
    "import matplotlib.patches as mpatches\n",
    "%matplotlib"
   ]
  },
  {
   "cell_type": "code",
   "execution_count": 2,
   "metadata": {
    "collapsed": false
   },
   "outputs": [],
   "source": [
    "# Read input data + constants\n",
    "src_file = glob.glob('./prof*.csv')\n",
    "df = pd.read_csv(src_file[0],skipinitialspace=True)"
   ]
  },
  {
   "cell_type": "code",
   "execution_count": 3,
   "metadata": {
    "collapsed": false
   },
   "outputs": [
    {
     "data": {
      "text/plain": [
       "\"\\ndf2 = pd.DataFrame(columns=['uid','cores','start', 'done'])\\ncnt=0\\nfor row in df1.sort('uid').iterrows():\\n    if row[1]['executable'] == 'gmx mdrun':\\n        df2.loc[cnt] = [row[1]['uid'], row[1]['cores'],  row[1]['Executing'], row[1]['AgentStagingOutputPending']] \\n        cnt+=1\\n\""
      ]
     },
     "execution_count": 3,
     "metadata": {},
     "output_type": "execute_result"
    }
   ],
   "source": [
    "# Process and create required DF\n",
    "\n",
    "# Drop unrequired columns\n",
    "df1 = df.drop(df.columns[[3,4,6,7,9,10,11,12,13,14,15,16,17]],axis=1)\n",
    "#print df1\n",
    "\"\"\"\n",
    "df2 = pd.DataFrame(columns=['uid','cores','start', 'done'])\n",
    "cnt=0\n",
    "for row in df1.sort('uid').iterrows():\n",
    "    if row[1]['executable'] == 'gmx mdrun':\n",
    "        df2.loc[cnt] = [row[1]['uid'], row[1]['cores'],  row[1]['Executing'], row[1]['AgentStagingOutputPending']] \n",
    "        cnt+=1\n",
    "\"\"\""
   ]
  },
  {
   "cell_type": "code",
   "execution_count": 4,
   "metadata": {
    "collapsed": false
   },
   "outputs": [],
   "source": [
    "bmap = brewer2mpl.get_map('Set3','qualitative',len(set(df1['cores'])),reverse=True)\n",
    "colors = bmap.mpl_colors\n",
    "colordict = dict(zip(set(df1['cores']), colors))\n",
    "df1[\"Color\"] = df1['cores'].apply(lambda x: colordict[x])\n"
   ]
  },
  {
   "cell_type": "code",
   "execution_count": 19,
   "metadata": {
    "collapsed": false
   },
   "outputs": [
    {
     "name": "stderr",
     "output_type": "stream",
     "text": [
      "/usr/local/lib/python2.7/dist-packages/ipykernel/__main__.py:14: FutureWarning: sort(columns=....) is deprecated, use sort_values(by=.....)\n"
     ]
    }
   ],
   "source": [
    "# Plot Data\n",
    "\n",
    "## Plotting variables\n",
    "ids = []\n",
    "proxy_ids = []\n",
    "bar_min = []\n",
    "bar_max = []\n",
    "cnt = 1\n",
    "landscape = True\n",
    "color=[]\n",
    "last_color=None\n",
    "last_id = None\n",
    "## Extract DF values to array in the same order\n",
    "for row in df1.sort('uid').iterrows():\n",
    "    if row[1]['executable'] == 'gmx mdrun':\n",
    "    \n",
    "        proxy_ids.append(cnt)\n",
    "        cnt+=1\n",
    "        bar_min.append(row[1]['AGENT_EXECUTING'])\n",
    "        bar_max.append(row[1]['AGENT_STAGING_OUTPUT_PENDING'])\n",
    "        color.append(row[1][\"Color\"])\n",
    "        if last_color != row[1][\"Color\"]:\n",
    "            ids.append(int(row[1]['uid'].split('.')[1]))\n",
    "            last_color = row[1][\"Color\"]\n",
    "        else:\n",
    "            ids.append('')\n",
    "        last_id = int(row[1]['uid'].split('.')[1])\n",
    "            \n",
    "        #last_row = row\n",
    "        \n",
    "#ids.append(int(last_row[1]['uid'].split('.')[1]))\n",
    "\n",
    "#print len(ids)\n",
    "#print bar_min\n",
    "#print bar_max\n",
    "        \n",
    "        \n",
    "\n",
    "fig, ax = plt.subplots()\n",
    "\n",
    "if landscape:\n",
    "    \n",
    "    FONTSIZE=26\n",
    "    \n",
    "    ## Plot each bar in the figure individually\n",
    "    for i in range(len(ids)):\n",
    "        plt.bar(bottom=bar_min[i], height=bar_max[i]-bar_min[i], left=proxy_ids[i], color=color[i], align='center')\n",
    "\n",
    "    ## Plot formatting\n",
    "    ax.set_xticks(proxy_ids)\n",
    "    for tick in ax.xaxis.get_major_ticks():\n",
    "        tick.label.set_fontsize(FONTSIZE)\n",
    "    for tick in ax.yaxis.get_major_ticks():\n",
    "        tick.label.set_fontsize(FONTSIZE)\n",
    "    ax.set_xticklabels(ids[:-1] + [last_id], fontsize=FONTSIZE)   \n",
    "    #ax.grid(which='major', axis='x', linestyle='--')\n",
    "    ax.set_xlabel('Task ID', fontsize=FONTSIZE)\n",
    "    ax.set_ylabel('Time (seconds)', fontsize=FONTSIZE)\n",
    "    ax.set_title('Execution times of varying workload', fontsize=FONTSIZE)\n",
    "else:\n",
    "    \n",
    "    FONTSIZE=14\n",
    "    \n",
    "    ## Plot each bar in the figure individually\n",
    "    for i in range(len(ids)):\n",
    "        plt.barh(left=bar_min[i], width=bar_max[i]-bar_min[i], bottom=proxy_ids[i], color=color[i], align='center')\n",
    "\n",
    "    ## Plot formatting\n",
    "    ax.set_yticks(proxy_ids)\n",
    "    for tick in ax.xaxis.get_major_ticks():\n",
    "        tick.label.set_fontsize(FONTSIZE)\n",
    "    for tick in ax.yaxis.get_major_ticks():\n",
    "        tick.label.set_fontsize(FONTSIZE)\n",
    "    ax.set_yticklabels(ids,fontsize=FONTSIZE)   \n",
    "    #ax.grid(which='major', axis='y', linestyle='--')\n",
    "    ax.set_ylabel('Unit-ids',fontsize=FONTSIZE)\n",
    "    ax.set_xlabel('Time (seconds)',fontsize=FONTSIZE)\n",
    "    ax.set_title('Execution times of varying workload',fontsize=FONTSIZE)\n"
   ]
  },
  {
   "cell_type": "code",
   "execution_count": 20,
   "metadata": {
    "collapsed": false
   },
   "outputs": [],
   "source": [
    "# Add custom legends\n",
    "\n",
    "patch_list = []\n",
    "for key,val in colordict.iteritems():\n",
    "    if key != 1:\n",
    "        patch_list.append(mpatches.Patch(color=val, label=str(key) + ' core(s) per task'))\n",
    "\n",
    "    \n",
    "if landscape:\n",
    "    plt.legend(handles=patch_list,loc='upper left',fontsize=FONTSIZE)\n",
    "else:\n",
    "    plt.legend(handles=patch_list,loc='lower right',fontsize=FONTSIZE)\n",
    "    \n",
    "fig = plt.gcf()\n",
    "fig.set_size_inches(18, 10)\n",
    "fig.savefig('varying_workload_size.png', dpi=100)"
   ]
  },
  {
   "cell_type": "code",
   "execution_count": 35,
   "metadata": {
    "collapsed": false
   },
   "outputs": [
    {
     "name": "stdout",
     "output_type": "stream",
     "text": [
      "[<matplotlib.patches.Patch object at 0x7f3c3eea6190>, <matplotlib.patches.Patch object at 0x7f3c386d7690>, <matplotlib.patches.Patch object at 0x7f3c3efc7650>, <matplotlib.patches.Patch object at 0x7f3c3efc71d0>, <matplotlib.patches.Patch object at 0x7f3c3f27e650>]\n"
     ]
    }
   ],
   "source": []
  },
  {
   "cell_type": "code",
   "execution_count": null,
   "metadata": {
    "collapsed": true
   },
   "outputs": [],
   "source": []
  }
 ],
 "metadata": {
  "kernelspec": {
   "display_name": "Python 2",
   "language": "python",
   "name": "python2"
  },
  "language_info": {
   "codemirror_mode": {
    "name": "ipython",
    "version": 2
   },
   "file_extension": ".py",
   "mimetype": "text/x-python",
   "name": "python",
   "nbconvert_exporter": "python",
   "pygments_lexer": "ipython2",
   "version": "2.7.12"
  }
 },
 "nbformat": 4,
 "nbformat_minor": 1
}
