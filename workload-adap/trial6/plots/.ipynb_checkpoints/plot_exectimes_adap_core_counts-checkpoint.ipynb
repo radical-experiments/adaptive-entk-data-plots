{
 "cells": [
  {
   "cell_type": "code",
   "execution_count": 136,
   "metadata": {
    "collapsed": false
   },
   "outputs": [
    {
     "name": "stdout",
     "output_type": "stream",
     "text": [
      "Using matplotlib backend: TkAgg\n"
     ]
    }
   ],
   "source": [
    "# Module imports\n",
    "\n",
    "import pandas as pd\n",
    "import matplotlib.pyplot as plt\n",
    "\n",
    "import os\n",
    "import glob\n",
    "import numpy as np\n",
    "import brewer2mpl\n",
    "import matplotlib.patches as mpatches\n",
    "%matplotlib"
   ]
  },
  {
   "cell_type": "code",
   "execution_count": 162,
   "metadata": {
    "collapsed": true
   },
   "outputs": [],
   "source": [
    "# Read input data + constants\n",
    "src_file = glob.glob('../prof*.csv')\n",
    "df = pd.read_csv(src_file[0],skipinitialspace=True)\n"
   ]
  },
  {
   "cell_type": "code",
   "execution_count": 163,
   "metadata": {
    "collapsed": false
   },
   "outputs": [
    {
     "data": {
      "text/plain": [
       "\"\\ndf2 = pd.DataFrame(columns=['uid','cores','start', 'done'])\\ncnt=0\\nfor row in df1.sort('uid').iterrows():\\n    if row[1]['executable'] == 'gmx mdrun':\\n        df2.loc[cnt] = [row[1]['uid'], row[1]['cores'],  row[1]['Executing'], row[1]['AgentStagingOutputPending']] \\n        cnt+=1\\n\""
      ]
     },
     "execution_count": 163,
     "metadata": {},
     "output_type": "execute_result"
    }
   ],
   "source": [
    "# Process and create required DF\n",
    "\n",
    "# Drop unrequired columns\n",
    "df1 = df.drop(df.columns[[3,4,5,6,7,10,11,8,13,14,15,16,17,18]],axis=1)\n",
    "\n",
    "\n",
    "\"\"\"\n",
    "df2 = pd.DataFrame(columns=['uid','cores','start', 'done'])\n",
    "cnt=0\n",
    "for row in df1.sort('uid').iterrows():\n",
    "    if row[1]['executable'] == 'gmx mdrun':\n",
    "        df2.loc[cnt] = [row[1]['uid'], row[1]['cores'],  row[1]['Executing'], row[1]['AgentStagingOutputPending']] \n",
    "        cnt+=1\n",
    "\"\"\""
   ]
  },
  {
   "cell_type": "code",
   "execution_count": 164,
   "metadata": {
    "collapsed": false
   },
   "outputs": [],
   "source": [
    "bmap = brewer2mpl.get_map('Set3','qualitative',len(set(df1['cores'])),reverse=True)\n",
    "colors = bmap.mpl_colors\n",
    "colordict = dict(zip(set(df1['cores']), colors))\n",
    "df1[\"Color\"] = df1['cores'].apply(lambda x: colordict[x])\n"
   ]
  },
  {
   "cell_type": "code",
   "execution_count": 175,
   "metadata": {
    "collapsed": false
   },
   "outputs": [
    {
     "name": "stderr",
     "output_type": "stream",
     "text": [
      "/usr/local/lib/python2.7/dist-packages/ipykernel/__main__.py:12: FutureWarning: sort(columns=....) is deprecated, use sort_values(by=.....)\n"
     ]
    }
   ],
   "source": [
    "# Plot Data\n",
    "\n",
    "## Plotting variables\n",
    "ids = []\n",
    "proxy_ids = []\n",
    "bar_min = []\n",
    "bar_max = []\n",
    "cnt = 1\n",
    "landscape = False\n",
    "\n",
    "## Extract DF values to array in the same order\n",
    "for row in df1.sort('uid').iterrows():\n",
    "    if row[1]['executable'] == 'gmx mdrun':\n",
    "        ids.append(int(row[1]['uid'].split('.')[1]))\n",
    "        proxy_ids.append(cnt)\n",
    "        cnt+=1\n",
    "        bar_min.append(row[1]['Executing'])\n",
    "        bar_max.append(row[1]['AgentStagingOutputPending'])\n",
    "        color.append(row[1][\"Color\"])\n",
    "    \n",
    "fig, ax = plt.subplots()\n",
    "\n",
    "if landscape:\n",
    "    \n",
    "    FONTSIZE=18\n",
    "    \n",
    "    ## Plot each bar in the figure individually\n",
    "    for i in range(len(ids)):\n",
    "        plt.bar(bottom=bar_min[i], height=bar_max[i]-bar_min[i], left=proxy_ids[i], color=color[i], align='center')\n",
    "\n",
    "    ## Plot formatting\n",
    "    ax.set_xticks(proxy_ids)\n",
    "    for tick in ax.xaxis.get_major_ticks():\n",
    "        tick.label.set_fontsize(FONTSIZE)\n",
    "    for tick in ax.yaxis.get_major_ticks():\n",
    "        tick.label.set_fontsize(FONTSIZE)\n",
    "    ax.set_xticklabels(ids, rotation=90, fontsize=FONTSIZE)   \n",
    "    ax.grid(which='major', axis='x', linestyle='--')\n",
    "    ax.set_xlabel('Unit-ids', fontsize=FONTSIZE)\n",
    "    ax.set_ylabel('Time (seconds)', fontsize=FONTSIZE)\n",
    "    ax.set_title('Execution times of gromacs simulations at dynamically computed core counts', fontsize=FONTSIZE)\n",
    "else:\n",
    "    \n",
    "    FONTSIZE=14\n",
    "    \n",
    "    ## Plot each bar in the figure individually\n",
    "    for i in range(len(ids)):\n",
    "        plt.barh(left=bar_min[i], width=bar_max[i]-bar_min[i], bottom=proxy_ids[i], color=color[i], align='center')\n",
    "\n",
    "    ## Plot formatting\n",
    "    ax.set_yticks(proxy_ids)\n",
    "    for tick in ax.xaxis.get_major_ticks():\n",
    "        tick.label.set_fontsize(FONTSIZE)\n",
    "    for tick in ax.yaxis.get_major_ticks():\n",
    "        tick.label.set_fontsize(FONTSIZE)\n",
    "    ax.set_yticklabels(ids,fontsize=FONTSIZE)   \n",
    "    ax.grid(which='major', axis='y', linestyle='--')\n",
    "    ax.set_ylabel('Unit-ids',fontsize=FONTSIZE)\n",
    "    ax.set_xlabel('Time (seconds)',fontsize=FONTSIZE)\n",
    "    ax.set_title('Execution times of gromacs simulations at dynamically computed core counts',fontsize=FONTSIZE)"
   ]
  },
  {
   "cell_type": "code",
   "execution_count": 176,
   "metadata": {
    "collapsed": false
   },
   "outputs": [],
   "source": [
    "# Add custom legends\n",
    "\n",
    "patch_list = []\n",
    "for key,val in colordict.iteritems():\n",
    "    patch_list.append(mpatches.Patch(color=val, label=str(key) + ' core(s)'))\n",
    "    \n",
    "if landscape:\n",
    "    plt.legend(handles=patch_list,loc='upper left',fontsize=FONTSIZE)\n",
    "else:\n",
    "    plt.legend(handles=patch_list,loc='lower right',fontsize=FONTSIZE)"
   ]
  },
  {
   "cell_type": "code",
   "execution_count": null,
   "metadata": {
    "collapsed": true
   },
   "outputs": [],
   "source": []
  }
 ],
 "metadata": {
  "kernelspec": {
   "display_name": "Python 2",
   "language": "python",
   "name": "python2"
  },
  "language_info": {
   "codemirror_mode": {
    "name": "ipython",
    "version": 2
   },
   "file_extension": ".py",
   "mimetype": "text/x-python",
   "name": "python",
   "nbconvert_exporter": "python",
   "pygments_lexer": "ipython2",
   "version": "2.7.12"
  }
 },
 "nbformat": 4,
 "nbformat_minor": 1
}
