{
 "cells": [
  {
   "cell_type": "code",
   "execution_count": 177,
   "metadata": {
    "collapsed": false
   },
   "outputs": [
    {
     "name": "stdout",
     "output_type": "stream",
     "text": [
      "Using matplotlib backend: TkAgg\n"
     ]
    }
   ],
   "source": [
    "# Module imports\n",
    "\n",
    "import pandas as pd\n",
    "import matplotlib.pyplot as plt\n",
    "\n",
    "import os\n",
    "import glob\n",
    "import numpy as np\n",
    "import brewer2mpl\n",
    "%matplotlib"
   ]
  },
  {
   "cell_type": "code",
   "execution_count": 178,
   "metadata": {
    "collapsed": true
   },
   "outputs": [],
   "source": [
    "# Read input data\n",
    "src_file = glob.glob('../prof*.csv')\n",
    "df = pd.read_csv(src_file[0],skipinitialspace=True)"
   ]
  },
  {
   "cell_type": "code",
   "execution_count": 179,
   "metadata": {
    "collapsed": false
   },
   "outputs": [
    {
     "name": "stderr",
     "output_type": "stream",
     "text": [
      "/usr/local/lib/python2.7/dist-packages/ipykernel/__main__.py:4: FutureWarning: sort(columns=....) is deprecated, use sort_values(by=.....)\n"
     ]
    }
   ],
   "source": [
    "# Process and create required DF\n",
    "\n",
    "df1 = df.drop(df.columns[[3,4,5,6,7,10,11,8,13,14,15,16,17,18]],axis=1)\n",
    "\n",
    "df2 = pd.DataFrame(columns=['cores','duration'])\n",
    "for row in df1.sort('uid').iterrows():\n",
    "    if row[1]['executable'] == 'gmx mdrun':\n",
    "        df2.loc[row[1]['uid']] = [row[1]['cores'], row[1]['AgentStagingOutputPending'] - row[1]['Executing']]        \n"
   ]
  },
  {
   "cell_type": "code",
   "execution_count": 180,
   "metadata": {
    "collapsed": false
   },
   "outputs": [
    {
     "name": "stdout",
     "output_type": "stream",
     "text": [
      "{1: (0.8980392156862745, 0.7686274509803922, 0.5803921568627451), 2: (1.0, 0.8509803921568627, 0.1843137254901961), 3: (0.6509803921568628, 0.8470588235294118, 0.32941176470588235), 4: (0.9058823529411765, 0.5411764705882353, 0.7647058823529411), 6: (0.5529411764705883, 0.6274509803921569, 0.796078431372549), 7: (0.9882352941176471, 0.5529411764705883, 0.3843137254901961), 8: (0.4, 0.7607843137254902, 0.6470588235294118)}\n"
     ]
    }
   ],
   "source": [
    "# Derive colors to be used\n",
    "\n",
    "bmap = brewer2mpl.get_map('Set2','qualitative',len(set(df['cores'])),reverse=True)\n",
    "colors = bmap.mpl_colors\n",
    "colordict = dict(zip(set(df['cores']), colors))\n",
    "df2[\"Color\"] = df2['cores'].apply(lambda x: colordict[x])\n",
    "print colordict"
   ]
  },
  {
   "cell_type": "code",
   "execution_count": 189,
   "metadata": {
    "collapsed": false
   },
   "outputs": [
    {
     "data": {
      "text/plain": [
       "<matplotlib.text.Text at 0x7f0790d650d0>"
      ]
     },
     "execution_count": 189,
     "metadata": {},
     "output_type": "execute_result"
    }
   ],
   "source": [
    "# Plot the graph\n",
    "ax = df2.plot(kind='bar',y = 'duration', color = df2.Color, \n",
    "              title='Gromacs MD simulation tasks run at core counts determined during runtime',\n",
    "             fontsize=22)\n",
    "ax.set_xlabel('Tasks', fontsize=22)\n",
    "ax.set_ylabel('Simulation duration (secs)', fontsize=22)\n",
    "ax.set_title(ax.get_title(), fontsize=22)"
   ]
  },
  {
   "cell_type": "code",
   "execution_count": 190,
   "metadata": {
    "collapsed": false
   },
   "outputs": [
    {
     "data": {
      "text/plain": [
       "<matplotlib.legend.Legend at 0x7f0791217110>"
      ]
     },
     "execution_count": 190,
     "metadata": {},
     "output_type": "execute_result"
    }
   ],
   "source": [
    "# Add custom legends\n",
    "import matplotlib.patches as mpatches\n",
    "\n",
    "patch_list = []\n",
    "for key,val in colordict.iteritems():\n",
    "    patch_list.append(mpatches.Patch(color=val, label=str(key) + ' core(s)'))\n",
    "    \n",
    "plt.legend(handles=patch_list,loc='upper left',fontsize=22)"
   ]
  },
  {
   "cell_type": "raw",
   "metadata": {},
   "source": []
  }
 ],
 "metadata": {
  "kernelspec": {
   "display_name": "Python 2",
   "language": "python",
   "name": "python2"
  },
  "language_info": {
   "codemirror_mode": {
    "name": "ipython",
    "version": 2
   },
   "file_extension": ".py",
   "mimetype": "text/x-python",
   "name": "python",
   "nbconvert_exporter": "python",
   "pygments_lexer": "ipython2",
   "version": "2.7.12"
  }
 },
 "nbformat": 4,
 "nbformat_minor": 1
}
